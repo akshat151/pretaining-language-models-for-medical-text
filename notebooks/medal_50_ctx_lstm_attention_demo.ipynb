{
 "cells": [
  {
   "cell_type": "markdown",
   "metadata": {},
   "source": [
    "# MeDAL Dataset (50 context) - Preprocessing and Model Training with GloVe + LSTM + Self-Attention\n",
    "\n",
    "\n",
    "This notebook presents a full pipeline for training a neural network model on the MeDAL dataset, focusing on medical abbreviation disambiguation. The key steps include:\n",
    "- Ensuring reproducibility and loading project configurations.\n",
    "- Loading and preprocessing the MeDAL dataset splits (train, valid) using a whitespace tokenizer (can be adjusted as per your choice).\n",
    "- Extracting context windows of 50 words—specifically, 25 words to the left and 25 to the right of each abbreviation instance.\n",
    "- Saving tokenized context windows as `.parquet` files for efficient access.\n",
    "- Building a custom vocabulary from training data (with a minimum frequency threshold) and initializing GloVe embeddings.\n",
    "- Implementing a `LazyEmbeddingDataset` for efficient data loading and embedding lookup.\n",
    "- Training a hybrid LSTM + Multi-Head Self-Attention model with residual connections, attention-based summarization, and contextual features.\n",
    "- Leveraging a reusable ModelTrainer class for training and evaluation, including training visualizations.\n",
    "\n",
    "\n",
    "This setup provides a solid foundation for experimenting with different embedding strategies and model architectures for medical abbreviation expansion tasks."
   ]
  },
  {
   "cell_type": "markdown",
   "metadata": {},
   "source": [
    "#### Import libraries"
   ]
  },
  {
   "cell_type": "code",
   "execution_count": 1,
   "metadata": {},
   "outputs": [
    {
     "name": "stdout",
     "output_type": "stream",
     "text": [
      "Environment set up: sys.path updated, working dir set to project root.\n"
     ]
    },
    {
     "name": "stderr",
     "output_type": "stream",
     "text": [
      "[nltk_data] Downloading package stopwords to\n",
      "[nltk_data]     /Users/prashanthjaganathan/nltk_data...\n",
      "[nltk_data]   Package stopwords is already up-to-date!\n",
      "[nltk_data] Downloading package stopwords to\n",
      "[nltk_data]     /Users/prashanthjaganathan/nltk_data...\n",
      "[nltk_data]   Package stopwords is already up-to-date!\n"
     ]
    },
    {
     "name": "stdout",
     "output_type": "stream",
     "text": [
      "INFO: Pandarallel will run on 8 workers.\n",
      "INFO: Pandarallel will use standard multiprocessing data transfer (pipe) to transfer data between the main process and workers.\n"
     ]
    }
   ],
   "source": [
    "%load_ext autoreload\n",
    "%autoreload 2\n",
    "%run ../setup.py\n",
    "\n",
    "from src.data.medal import MeDALSubset\n",
    "import pandas as pd\n",
    "from torch.utils.data import Dataset, DataLoader\n",
    "import torch\n",
    "import yaml\n",
    "from src.models.trainer import ModelTrainer\n",
    "from src.models.factory import ModelFactory\n",
    "from src.vectorizer.trainable import TrainableEmbedding\n",
    "from src.vectorizer.glove_embeddings import GloVeEmbedding\n",
    "from sklearn.decomposition import TruncatedSVD\n",
    "from tqdm import tqdm\n",
    "from env import ProjectPaths\n",
    "from src.utils import save_embeddings_to_file\n",
    "import pyarrow.parquet as pq\n",
    "import numpy as np\n",
    "import random\n",
    "import torch.nn as nn\n",
    "import json\n",
    "\n",
    "# random seed for reproducibility\n",
    "SEED = 42\n",
    "random.seed(SEED)\n",
    "np.random.seed(SEED)\n",
    "torch.manual_seed(SEED)\n",
    "torch.cuda.manual_seed(SEED)\n",
    "torch.cuda.manual_seed_all(SEED)\n",
    "torch.backends.cudnn.deterministic = True\n",
    "torch.backends.cudnn.benchmark = False"
   ]
  },
  {
   "cell_type": "markdown",
   "metadata": {},
   "source": [
    "#### Download and load the dataset"
   ]
  },
  {
   "cell_type": "code",
   "execution_count": 2,
   "metadata": {},
   "outputs": [
    {
     "name": "stdout",
     "output_type": "stream",
     "text": [
      "MeDAL dataset initialized with name: MeDAL\n",
      "Dataset already exists at: /Users/prashanthjaganathan/Desktop/CS6120 - NLP/pretaining-language-models-for-medical-text/dataset/medal\n",
      "Dataset CSVs found in: dataset/medal/pretrain_subset\n",
      "Total number of classes: 22555\n"
     ]
    }
   ],
   "source": [
    "medal_dataset = MeDALSubset('MeDAL')\n",
    "data, train_data, val_data, test_data = medal_dataset.load_dataset()\n",
    "class_to_idx = medal_dataset.class_to_idx\n",
    "del data, val_data, train_data, test_data"
   ]
  },
  {
   "cell_type": "markdown",
   "metadata": {},
   "source": [
    "#### Load configurations"
   ]
  },
  {
   "cell_type": "code",
   "execution_count": 5,
   "metadata": {},
   "outputs": [
    {
     "name": "stdout",
     "output_type": "stream",
     "text": [
      "The autoreload extension is already loaded. To reload it, use:\n",
      "  %reload_ext autoreload\n"
     ]
    }
   ],
   "source": [
    "%load_ext autoreload\n",
    "%autoreload 2\n",
    "\n",
    "def load_config(path):\n",
    "    with open(path, 'r') as f:\n",
    "        return yaml.safe_load(f)\n",
    "\n",
    "config = load_config('config/config.yaml')"
   ]
  },
  {
   "cell_type": "markdown",
   "metadata": {},
   "source": [
    "#### Tokenize train and valid sets using whitespace tokenizer and store in `.parquet` file"
   ]
  },
  {
   "cell_type": "code",
   "execution_count": null,
   "metadata": {},
   "outputs": [],
   "source": [
    "tokens_and_locations = medal_dataset.tokenize('whitespace', splits=['train'])\n",
    "contexts = medal_dataset.extract_context_from_tokens(\n",
    "    tokens_and_locations,\n",
    "    context_window=config['datasets']['medal']['context_window'])\n",
    "contexts_df = pd.DataFrame({\n",
    "    'ABSTRACT_ID': medal_dataset.train_data['ABSTRACT_ID'],\n",
    "    'CONTEXT': contexts})\n",
    "contexts_df.head()\n",
    "\n",
    "# Save as a Parquet file\n",
    "dir = ProjectPaths.DATASET_DIR.value / 'medal' / 'whitespace_tokenized_subset'\n",
    "dir.mkdir(parents=True, exist_ok=True)\n",
    "file_name = dir / \"train.parquet\"\n",
    "contexts_df.to_parquet(file_name)\n",
    "print('Parquet file saved successfully!')\n"
   ]
  },
  {
   "cell_type": "code",
   "execution_count": null,
   "metadata": {},
   "outputs": [],
   "source": [
    "tokens_and_locations = medal_dataset.tokenize('whitespace', splits=['valid'])\n",
    "contexts = medal_dataset.extract_context_from_tokens(\n",
    "    tokens_and_locations,\n",
    "    context_window=config['datasets']['medal']['context_window'])\n",
    "contexts_df = pd.DataFrame({\n",
    "    'ABSTRACT_ID': medal_dataset.val_data['ABSTRACT_ID'],\n",
    "    'CONTEXT': contexts})\n",
    "contexts_df.head()\n",
    "\n",
    "# Save as a Parquet file\n",
    "dir = ProjectPaths.DATASET_DIR.value / 'medal' / 'whitespace_tokenized_subset'\n",
    "dir.mkdir(parents=True, exist_ok=True)\n",
    "file_name = dir / \"valid.parquet\"\n",
    "contexts_df.to_parquet(file_name)\n",
    "print('Parquet file saved successfully!')\n"
   ]
  },
  {
   "cell_type": "code",
   "execution_count": 3,
   "metadata": {},
   "outputs": [
    {
     "name": "stderr",
     "output_type": "stream",
     "text": [
      "Docs: 100%|██████████| 3000000/3000000 [00:04<00:00, 689918.14it/s]"
     ]
    },
    {
     "name": "stdout",
     "output_type": "stream",
     "text": [
      "Number of documents in train corpus: 3000000\n"
     ]
    },
    {
     "name": "stderr",
     "output_type": "stream",
     "text": [
      "\n"
     ]
    }
   ],
   "source": [
    "train_tokens = pd.read_parquet(\"dataset/medal/whitespace_tokenized_subset/train.parquet\", engine=\"pyarrow\").squeeze()\n",
    "\n",
    "# to make it as a list[list[str]]\n",
    "tokenized_train_corpus = [context.tolist() for context in tqdm(train_tokens['CONTEXT'], 'Docs', len(train_tokens['CONTEXT']))] \n",
    "print(f'Number of documents in train corpus: {len(tokenized_train_corpus)}')"
   ]
  },
  {
   "cell_type": "markdown",
   "metadata": {},
   "source": [
    "#### Create vocabulary from the train set"
   ]
  },
  {
   "cell_type": "code",
   "execution_count": 6,
   "metadata": {},
   "outputs": [
    {
     "name": "stdout",
     "output_type": "stream",
     "text": [
      "External vocab size: 490968\n"
     ]
    }
   ],
   "source": [
    "from collections import Counter\n",
    "\n",
    "min_word_freq = 2\n",
    "counter = Counter()\n",
    "# tokenized_train_corpus is a list of tuples: (list_of_tokens, abbreviation)\n",
    "for tokens in tokenized_train_corpus:\n",
    "    counter.update(tokens)\n",
    "\n",
    "external_vocab = {\"<PAD>\": 0, \"<UNK>\": 1}\n",
    "for token, freq in counter.items():\n",
    "    if freq >= min_word_freq:\n",
    "        external_vocab[token] = len(external_vocab)\n",
    "\n",
    "print(f\"External vocab size: {len(external_vocab)}\")\n",
    "\n"
   ]
  },
  {
   "cell_type": "code",
   "execution_count": 7,
   "metadata": {},
   "outputs": [],
   "source": [
    "config_glove = config['embedding_models']['glove']\n",
    "config_glove['external_vocab'] = external_vocab  # Pass the external vocabulary"
   ]
  },
  {
   "cell_type": "markdown",
   "metadata": {},
   "source": [
    "### Model Training\n",
    "\n",
    "First, let's create the dataloader with embeddings as features and labels."
   ]
  },
  {
   "cell_type": "code",
   "execution_count": 8,
   "metadata": {},
   "outputs": [],
   "source": [
    "class LazyEmbeddingDataset(Dataset):\n",
    "    def __init__(\n",
    "            self, \n",
    "            file_path, \n",
    "            embedding_model, \n",
    "            labels, \n",
    "            class_to_idx, \n",
    "            return_tokens=True,\n",
    "            max_seq_len=None):\n",
    "        \"\"\"\n",
    "        Args:\n",
    "            file_path (str): Path to the Parquet file containing the tokenized text.\n",
    "            embedding_model: The custom embedding model (e.g., GloVeEmbedding).\n",
    "            labels (list): Labels corresponding to each document.\n",
    "            class_to_idx (dict): Mapping from class label to integer index.\n",
    "            max_seq_len (int, optional): Max sequence length for padding/truncating.\n",
    "        \"\"\"\n",
    "        self.file_path = file_path\n",
    "        table = pq.read_table(self.file_path)\n",
    "        self.tokenized_corpus = table['CONTEXT']  # Assuming the corpus is tokenized in the file\n",
    "        self.embedding_model = embedding_model\n",
    "        self.labels = labels\n",
    "        self.class_to_idx = class_to_idx\n",
    "        self.max_seq_len = max_seq_len\n",
    "        self.label_names = set(self.labels)\n",
    "        self.return_tokens = return_tokens\n",
    "\n",
    "    def __len__(self):\n",
    "        return len(self.labels)\n",
    "\n",
    "    def __getitem__(self, idx):\n",
    "        # Get the tokens for the current document\n",
    "        tokens = self.tokenized_corpus[idx].as_py()  # Convert PyArrow StringScalar to string\n",
    "\n",
    "        if self.return_tokens:\n",
    "            embeddings = self.embedding_model.token_indices(tokens)\n",
    "        else:\n",
    "            # Compute the embeddings for this document on the fly using the embedding model\n",
    "            embeddings = self.embedding_model.embed(tokens)  # shape: (seq_len, embedding_dim)\n",
    "\n",
    "        # Convert to numpy arrays\n",
    "        # embeddings = np.array(embeddings, dtype=np.float32)\n",
    "        seq_len = len(embeddings)\n",
    "        embedding_dim = self.embedding_model.embedding_dim\n",
    "        embeddings = embeddings + [0] * (self.max_seq_len - seq_len) if seq_len < self.max_seq_len else embeddings[:self.max_seq_len]\n",
    "\n",
    "        # Padding/Truncation based on max_seq_len\n",
    "        # if self.max_seq_len is not None:\n",
    "        #     if seq_len < self.max_seq_len:\n",
    "        #         if self.return_tokens:\n",
    "        #             pad = np.zeros((self.max_seq_len - seq_len), dtype=np.float32)\n",
    "        #             embeddings = np.concatenate((embeddings, pad), axis=0)\n",
    "        #         else:\n",
    "        #             pad = np.zeros((self.max_seq_len - seq_len, embedding_dim), dtype=np.float32)\n",
    "        #             embeddings = np.vstack([embeddings, pad])\n",
    "        #     else:\n",
    "        #         embeddings = embeddings[:self.max_seq_len]\n",
    "\n",
    "        # Mask to indicate valid tokens\n",
    "        mask = np.ones(seq_len, dtype=np.float32)\n",
    "        if self.max_seq_len is not None and seq_len < self.max_seq_len:\n",
    "            mask = np.concatenate([mask, np.zeros(self.max_seq_len - seq_len, dtype=np.float32)])\n",
    "\n",
    "        # Convert label to index\n",
    "        label = self.labels[idx]\n",
    "        label_idx = self.class_to_idx[label]\n",
    "\n",
    "        return (torch.tensor(embeddings, dtype=torch.long),\n",
    "                torch.tensor(mask, dtype=torch.long),  # Return the mask\n",
    "                torch.tensor(label_idx, dtype=torch.long))\n",
    "\n",
    "\n",
    "def create_lazy_dataloader(file_path, embedding_model, labels, class_to_idx, batch_size, max_seq_len=None, shuffle=False):\n",
    "    dataset = LazyEmbeddingDataset(file_path, embedding_model, labels, class_to_idx, max_seq_len=max_seq_len, return_tokens=True)\n",
    "    return DataLoader(\n",
    "        dataset, \n",
    "        batch_size=batch_size, \n",
    "        shuffle=shuffle, \n",
    "        num_workers=0, \n",
    "        pin_memory=True\n",
    "        )\n",
    "    # return dataset"
   ]
  },
  {
   "cell_type": "code",
   "execution_count": 9,
   "metadata": {},
   "outputs": [],
   "source": [
    "glove_embedding_model = GloVeEmbedding(**config['embedding_models']['glove'])\n",
    "\n",
    "max_seq_len = config['datasets']['medal']['max_sequence_length']\n",
    "batch_size = config['training']['hyperparameters']['batch_size']\n",
    "\n",
    "trainloader = create_lazy_dataloader(\n",
    "    'dataset/medal/whitespace_tokenized_subset/train.parquet', \n",
    "    glove_embedding_model, \n",
    "    medal_dataset.train_data['LABEL'],\n",
    "    class_to_idx, \n",
    "    batch_size=batch_size,\n",
    "    max_seq_len=max_seq_len,\n",
    "    shuffle=True\n",
    ")\n",
    "\n",
    "\n",
    "valloader = create_lazy_dataloader(\n",
    "    'dataset/medal/whitespace_tokenized_subset/valid.parquet', \n",
    "    glove_embedding_model, \n",
    "    medal_dataset.val_data['LABEL'],\n",
    "    class_to_idx, \n",
    "    batch_size=batch_size,\n",
    "    max_seq_len=max_seq_len,\n",
    "    shuffle = False\n",
    "    )"
   ]
  },
  {
   "cell_type": "markdown",
   "metadata": {},
   "source": [
    "#### Execute training pipeline"
   ]
  },
  {
   "cell_type": "code",
   "execution_count": null,
   "metadata": {},
   "outputs": [
    {
     "name": "stdout",
     "output_type": "stream",
     "text": [
      "------- lstm_and_self_attention --------\n",
      "{'lstm_units': 1, 'lstm_hidden_dim': 128, 'num_attention_heads': 8, 'dropout': 0, 'max_sequence_length': 50, 'num_classes': 22555, 'embedding_dim': 100, 'create_embedding_layer': True, 'embedding_model': <src.vectorizer.glove_embeddings.GloVeEmbedding object at 0x2ac81952e020>}\n"
     ]
    },
    {
     "name": "stderr",
     "output_type": "stream",
     "text": [
      "Training:  21%|██▏       | 10017/46875 [01:30<05:28, 112.04it/s]"
     ]
    },
    {
     "name": "stdout",
     "output_type": "stream",
     "text": [
      "[Epoch 1] Batch 10000/46875 - Avg Loss (last 10000): 7.4665\n"
     ]
    },
    {
     "name": "stderr",
     "output_type": "stream",
     "text": [
      "Training:  43%|████▎     | 20015/46875 [03:00<04:01, 111.03it/s]"
     ]
    },
    {
     "name": "stdout",
     "output_type": "stream",
     "text": [
      "[Epoch 1] Batch 20000/46875 - Avg Loss (last 10000): 5.9367\n"
     ]
    },
    {
     "name": "stderr",
     "output_type": "stream",
     "text": [
      "Training:  64%|██████▍   | 30021/46875 [04:32<02:29, 112.72it/s]"
     ]
    },
    {
     "name": "stdout",
     "output_type": "stream",
     "text": [
      "[Epoch 1] Batch 30000/46875 - Avg Loss (last 10000): 5.7154\n"
     ]
    },
    {
     "name": "stderr",
     "output_type": "stream",
     "text": [
      "Training:  85%|████████▌ | 40011/46875 [06:08<01:01, 111.73it/s]"
     ]
    },
    {
     "name": "stdout",
     "output_type": "stream",
     "text": [
      "[Epoch 1] Batch 40000/46875 - Avg Loss (last 10000): 5.5975\n"
     ]
    },
    {
     "name": "stderr",
     "output_type": "stream",
     "text": [
      "Training: 100%|██████████| 46875/46875 [07:10<00:00, 108.77it/s]\n",
      "validating: 100%|██████████| 15625/15625 [01:36<00:00, 161.41it/s]\n"
     ]
    },
    {
     "name": "stdout",
     "output_type": "stream",
     "text": [
      "Validation Loss: 5.4992, Accuracy: 0.3449, Precision: 0.4740, Recall: 0.3449\n",
      "Epoch 1/10 - Train Loss: 0.0951, Train Acc: 0.2808, Prec: 0.3177, Recall: 0.2808, Val Acc: 0.3449, Val Prec: 0.4740, Val Recall: 0.3449\n"
     ]
    },
    {
     "name": "stderr",
     "output_type": "stream",
     "text": [
      "Training:  21%|██▏       | 10017/46875 [01:30<05:25, 113.14it/s]"
     ]
    },
    {
     "name": "stdout",
     "output_type": "stream",
     "text": [
      "[Epoch 2] Batch 10000/46875 - Avg Loss (last 10000): 5.2106\n"
     ]
    },
    {
     "name": "stderr",
     "output_type": "stream",
     "text": [
      "Training:  43%|████▎     | 20017/46875 [03:00<03:57, 112.94it/s]"
     ]
    },
    {
     "name": "stdout",
     "output_type": "stream",
     "text": [
      "[Epoch 2] Batch 20000/46875 - Avg Loss (last 10000): 5.2771\n"
     ]
    },
    {
     "name": "stderr",
     "output_type": "stream",
     "text": [
      "Training:  64%|██████▍   | 30014/46875 [04:31<02:33, 109.64it/s]"
     ]
    },
    {
     "name": "stdout",
     "output_type": "stream",
     "text": [
      "[Epoch 2] Batch 30000/46875 - Avg Loss (last 10000): 5.2881\n"
     ]
    },
    {
     "name": "stderr",
     "output_type": "stream",
     "text": [
      "Training:  85%|████████▌ | 40013/46875 [06:02<01:01, 111.53it/s]"
     ]
    },
    {
     "name": "stdout",
     "output_type": "stream",
     "text": [
      "[Epoch 2] Batch 40000/46875 - Avg Loss (last 10000): 5.2804\n"
     ]
    },
    {
     "name": "stderr",
     "output_type": "stream",
     "text": [
      "Training: 100%|██████████| 46875/46875 [07:06<00:00, 110.02it/s]\n",
      "validating: 100%|██████████| 15625/15625 [01:37<00:00, 160.06it/s]\n"
     ]
    },
    {
     "name": "stdout",
     "output_type": "stream",
     "text": [
      "Validation Loss: 5.3558, Accuracy: 0.3646, Precision: 0.4690, Recall: 0.3646\n",
      "Epoch 2/10 - Train Loss: 0.0823, Train Acc: 0.3708, Prec: 0.4014, Recall: 0.3708, Val Acc: 0.3646, Val Prec: 0.4690, Val Recall: 0.3646\n"
     ]
    },
    {
     "name": "stderr",
     "output_type": "stream",
     "text": [
      "Training:  21%|██▏       | 10021/46875 [01:37<05:42, 107.51it/s]"
     ]
    },
    {
     "name": "stdout",
     "output_type": "stream",
     "text": [
      "[Epoch 3] Batch 10000/46875 - Avg Loss (last 10000): 4.8835\n"
     ]
    },
    {
     "name": "stderr",
     "output_type": "stream",
     "text": [
      "Training:  43%|████▎     | 20018/46875 [03:12<04:15, 105.32it/s]"
     ]
    },
    {
     "name": "stdout",
     "output_type": "stream",
     "text": [
      "[Epoch 3] Batch 20000/46875 - Avg Loss (last 10000): 4.9353\n"
     ]
    },
    {
     "name": "stderr",
     "output_type": "stream",
     "text": [
      "Training:  64%|██████▍   | 30013/46875 [04:49<02:44, 102.61it/s]"
     ]
    },
    {
     "name": "stdout",
     "output_type": "stream",
     "text": [
      "[Epoch 3] Batch 30000/46875 - Avg Loss (last 10000): 4.9567\n"
     ]
    },
    {
     "name": "stderr",
     "output_type": "stream",
     "text": [
      "Training:  85%|████████▌ | 40017/46875 [06:25<01:03, 107.53it/s]"
     ]
    },
    {
     "name": "stdout",
     "output_type": "stream",
     "text": [
      "[Epoch 3] Batch 40000/46875 - Avg Loss (last 10000): 4.9554\n"
     ]
    },
    {
     "name": "stderr",
     "output_type": "stream",
     "text": [
      "Training: 100%|██████████| 46875/46875 [07:31<00:00, 103.79it/s]\n",
      "validating: 100%|██████████| 15625/15625 [01:36<00:00, 162.00it/s]\n"
     ]
    },
    {
     "name": "stdout",
     "output_type": "stream",
     "text": [
      "Validation Loss: 5.1054, Accuracy: 0.3959, Precision: 0.4737, Recall: 0.3959\n",
      "Epoch 3/10 - Train Loss: 0.0771, Train Acc: 0.4096, Prec: 0.4346, Recall: 0.4096, Val Acc: 0.3959, Val Prec: 0.4737, Val Recall: 0.3959\n"
     ]
    },
    {
     "name": "stderr",
     "output_type": "stream",
     "text": [
      "Training:  21%|██▏       | 10017/46875 [01:36<05:47, 106.08it/s]"
     ]
    },
    {
     "name": "stdout",
     "output_type": "stream",
     "text": [
      "[Epoch 4] Batch 10000/46875 - Avg Loss (last 10000): 4.4413\n"
     ]
    },
    {
     "name": "stderr",
     "output_type": "stream",
     "text": [
      "Training:  43%|████▎     | 20019/46875 [03:12<04:30, 99.32it/s] "
     ]
    },
    {
     "name": "stdout",
     "output_type": "stream",
     "text": [
      "[Epoch 4] Batch 20000/46875 - Avg Loss (last 10000): 4.5696\n"
     ]
    },
    {
     "name": "stderr",
     "output_type": "stream",
     "text": [
      "Training:  64%|██████▍   | 30018/46875 [04:48<02:39, 105.63it/s]"
     ]
    },
    {
     "name": "stdout",
     "output_type": "stream",
     "text": [
      "[Epoch 4] Batch 30000/46875 - Avg Loss (last 10000): 4.6306\n"
     ]
    },
    {
     "name": "stderr",
     "output_type": "stream",
     "text": [
      "Training:  85%|████████▌ | 40017/46875 [06:23<01:04, 105.64it/s]"
     ]
    },
    {
     "name": "stdout",
     "output_type": "stream",
     "text": [
      "[Epoch 4] Batch 40000/46875 - Avg Loss (last 10000): 4.6694\n"
     ]
    },
    {
     "name": "stderr",
     "output_type": "stream",
     "text": [
      "Training: 100%|██████████| 46875/46875 [07:30<00:00, 103.96it/s]\n",
      "validating: 100%|██████████| 15625/15625 [01:36<00:00, 162.12it/s]\n"
     ]
    },
    {
     "name": "stdout",
     "output_type": "stream",
     "text": [
      "Validation Loss: 5.0754, Accuracy: 0.4053, Precision: 0.4721, Recall: 0.4053\n",
      "Epoch 4/10 - Train Loss: 0.0718, Train Acc: 0.4501, Prec: 0.4702, Recall: 0.4501, Val Acc: 0.4053, Val Prec: 0.4721, Val Recall: 0.4053\n"
     ]
    },
    {
     "name": "stderr",
     "output_type": "stream",
     "text": [
      "Training:  21%|██▏       | 10021/46875 [01:35<05:49, 105.34it/s]"
     ]
    },
    {
     "name": "stdout",
     "output_type": "stream",
     "text": [
      "[Epoch 5] Batch 10000/46875 - Avg Loss (last 10000): 4.1469\n"
     ]
    },
    {
     "name": "stderr",
     "output_type": "stream",
     "text": [
      "Training:  43%|████▎     | 20013/46875 [03:11<04:33, 98.37it/s] "
     ]
    },
    {
     "name": "stdout",
     "output_type": "stream",
     "text": [
      "[Epoch 5] Batch 20000/46875 - Avg Loss (last 10000): 4.2774\n"
     ]
    },
    {
     "name": "stderr",
     "output_type": "stream",
     "text": [
      "Training:  64%|██████▍   | 30014/46875 [04:46<02:38, 106.51it/s]"
     ]
    },
    {
     "name": "stdout",
     "output_type": "stream",
     "text": [
      "[Epoch 5] Batch 30000/46875 - Avg Loss (last 10000): 4.3567\n"
     ]
    },
    {
     "name": "stderr",
     "output_type": "stream",
     "text": [
      "Training:  85%|████████▌ | 40016/46875 [06:23<01:04, 106.29it/s]"
     ]
    },
    {
     "name": "stdout",
     "output_type": "stream",
     "text": [
      "[Epoch 5] Batch 40000/46875 - Avg Loss (last 10000): 4.3915\n"
     ]
    },
    {
     "name": "stderr",
     "output_type": "stream",
     "text": [
      "Training: 100%|██████████| 46875/46875 [07:28<00:00, 104.41it/s]\n",
      "validating: 100%|██████████| 15625/15625 [01:36<00:00, 161.46it/s]\n"
     ]
    },
    {
     "name": "stdout",
     "output_type": "stream",
     "text": [
      "Validation Loss: 5.1071, Accuracy: 0.4088, Precision: 0.4637, Recall: 0.4088\n",
      "Epoch 5/10 - Train Loss: 0.0674, Train Acc: 0.4864, Prec: 0.5034, Recall: 0.4864, Val Acc: 0.4088, Val Prec: 0.4637, Val Recall: 0.4088\n"
     ]
    },
    {
     "name": "stderr",
     "output_type": "stream",
     "text": [
      "Training:  21%|██▏       | 10018/46875 [01:34<05:39, 108.50it/s]"
     ]
    },
    {
     "name": "stdout",
     "output_type": "stream",
     "text": [
      "[Epoch 6] Batch 10000/46875 - Avg Loss (last 10000): 3.8790\n"
     ]
    },
    {
     "name": "stderr",
     "output_type": "stream",
     "text": [
      "Training:  43%|████▎     | 20020/46875 [03:08<04:13, 105.89it/s]"
     ]
    },
    {
     "name": "stdout",
     "output_type": "stream",
     "text": [
      "[Epoch 6] Batch 20000/46875 - Avg Loss (last 10000): 4.0117\n"
     ]
    },
    {
     "name": "stderr",
     "output_type": "stream",
     "text": [
      "Training:  64%|██████▍   | 30012/46875 [04:43<02:37, 106.93it/s]"
     ]
    },
    {
     "name": "stdout",
     "output_type": "stream",
     "text": [
      "[Epoch 6] Batch 30000/46875 - Avg Loss (last 10000): 4.0838\n"
     ]
    },
    {
     "name": "stderr",
     "output_type": "stream",
     "text": [
      "Training:  85%|████████▌ | 40013/46875 [06:18<01:04, 107.06it/s]"
     ]
    },
    {
     "name": "stdout",
     "output_type": "stream",
     "text": [
      "[Epoch 6] Batch 40000/46875 - Avg Loss (last 10000): 4.1259\n"
     ]
    },
    {
     "name": "stderr",
     "output_type": "stream",
     "text": [
      "Training: 100%|██████████| 46875/46875 [07:24<00:00, 105.49it/s]\n",
      "validating: 100%|██████████| 15625/15625 [01:36<00:00, 161.60it/s]\n"
     ]
    },
    {
     "name": "stdout",
     "output_type": "stream",
     "text": [
      "Validation Loss: 5.1691, Accuracy: 0.4117, Precision: 0.4540, Recall: 0.4117\n",
      "Epoch 6/10 - Train Loss: 0.0632, Train Acc: 0.5252, Prec: 0.5397, Recall: 0.5252, Val Acc: 0.4117, Val Prec: 0.4540, Val Recall: 0.4117\n"
     ]
    },
    {
     "name": "stderr",
     "output_type": "stream",
     "text": [
      "Training:  21%|██▏       | 10013/46875 [01:34<06:02, 101.83it/s]"
     ]
    },
    {
     "name": "stdout",
     "output_type": "stream",
     "text": [
      "[Epoch 7] Batch 10000/46875 - Avg Loss (last 10000): 3.6416\n"
     ]
    },
    {
     "name": "stderr",
     "output_type": "stream",
     "text": [
      "Training:  43%|████▎     | 20017/46875 [03:10<04:10, 107.17it/s]"
     ]
    },
    {
     "name": "stdout",
     "output_type": "stream",
     "text": [
      "[Epoch 7] Batch 20000/46875 - Avg Loss (last 10000): 3.7553\n"
     ]
    },
    {
     "name": "stderr",
     "output_type": "stream",
     "text": [
      "Training:  64%|██████▍   | 30010/46875 [04:45<02:49, 99.38it/s] "
     ]
    },
    {
     "name": "stdout",
     "output_type": "stream",
     "text": [
      "[Epoch 7] Batch 30000/46875 - Avg Loss (last 10000): 3.8209\n"
     ]
    },
    {
     "name": "stderr",
     "output_type": "stream",
     "text": [
      "Training:  85%|████████▌ | 40020/46875 [06:21<01:04, 106.35it/s]"
     ]
    },
    {
     "name": "stdout",
     "output_type": "stream",
     "text": [
      "[Epoch 7] Batch 40000/46875 - Avg Loss (last 10000): 3.8603\n"
     ]
    },
    {
     "name": "stderr",
     "output_type": "stream",
     "text": [
      "Training: 100%|██████████| 46875/46875 [07:26<00:00, 104.96it/s]\n",
      "validating: 100%|██████████| 15625/15625 [01:36<00:00, 161.96it/s]\n"
     ]
    },
    {
     "name": "stdout",
     "output_type": "stream",
     "text": [
      "Validation Loss: 5.2295, Accuracy: 0.4125, Precision: 0.4459, Recall: 0.4125\n",
      "Epoch 7/10 - Train Loss: 0.0592, Train Acc: 0.5669, Prec: 0.5803, Recall: 0.5669, Val Acc: 0.4125, Val Prec: 0.4459, Val Recall: 0.4125\n"
     ]
    },
    {
     "name": "stderr",
     "output_type": "stream",
     "text": [
      "Training:  21%|██▏       | 10017/46875 [01:36<05:39, 108.53it/s]"
     ]
    },
    {
     "name": "stdout",
     "output_type": "stream",
     "text": [
      "[Epoch 8] Batch 10000/46875 - Avg Loss (last 10000): 3.4543\n"
     ]
    },
    {
     "name": "stderr",
     "output_type": "stream",
     "text": [
      "Training:  43%|████▎     | 20018/46875 [03:11<04:06, 108.87it/s]"
     ]
    },
    {
     "name": "stdout",
     "output_type": "stream",
     "text": [
      "[Epoch 8] Batch 20000/46875 - Avg Loss (last 10000): 3.5315\n"
     ]
    },
    {
     "name": "stderr",
     "output_type": "stream",
     "text": [
      "Training:  64%|██████▍   | 30010/46875 [04:46<02:52, 97.85it/s] "
     ]
    },
    {
     "name": "stdout",
     "output_type": "stream",
     "text": [
      "[Epoch 8] Batch 30000/46875 - Avg Loss (last 10000): 3.5754\n"
     ]
    },
    {
     "name": "stderr",
     "output_type": "stream",
     "text": [
      "Training:  85%|████████▌ | 40012/46875 [06:22<01:05, 105.45it/s]"
     ]
    },
    {
     "name": "stdout",
     "output_type": "stream",
     "text": [
      "[Epoch 8] Batch 40000/46875 - Avg Loss (last 10000): 3.6065\n"
     ]
    },
    {
     "name": "stderr",
     "output_type": "stream",
     "text": [
      "Training: 100%|██████████| 46875/46875 [07:27<00:00, 104.77it/s]\n",
      "validating: 100%|██████████| 15625/15625 [01:36<00:00, 162.57it/s]\n"
     ]
    },
    {
     "name": "stdout",
     "output_type": "stream",
     "text": [
      "Validation Loss: 5.3095, Accuracy: 0.4134, Precision: 0.4393, Recall: 0.4134\n",
      "Epoch 8/10 - Train Loss: 0.0555, Train Acc: 0.6099, Prec: 0.6219, Recall: 0.6099, Val Acc: 0.4134, Val Prec: 0.4393, Val Recall: 0.4134\n"
     ]
    },
    {
     "name": "stderr",
     "output_type": "stream",
     "text": [
      "Training:  21%|██▏       | 10011/46875 [01:34<05:42, 107.63it/s]"
     ]
    },
    {
     "name": "stdout",
     "output_type": "stream",
     "text": [
      "[Epoch 9] Batch 10000/46875 - Avg Loss (last 10000): 3.3076\n"
     ]
    },
    {
     "name": "stderr",
     "output_type": "stream",
     "text": [
      "Training:  43%|████▎     | 20019/46875 [03:09<04:17, 104.23it/s]"
     ]
    },
    {
     "name": "stdout",
     "output_type": "stream",
     "text": [
      "[Epoch 9] Batch 20000/46875 - Avg Loss (last 10000): 3.3579\n"
     ]
    },
    {
     "name": "stderr",
     "output_type": "stream",
     "text": [
      "Training:  64%|██████▍   | 30011/46875 [04:44<02:36, 107.85it/s]"
     ]
    },
    {
     "name": "stdout",
     "output_type": "stream",
     "text": [
      "[Epoch 9] Batch 30000/46875 - Avg Loss (last 10000): 3.3862\n"
     ]
    },
    {
     "name": "stderr",
     "output_type": "stream",
     "text": [
      "Training:  85%|████████▌ | 40014/46875 [06:19<01:08, 99.90it/s] "
     ]
    },
    {
     "name": "stdout",
     "output_type": "stream",
     "text": [
      "[Epoch 9] Batch 40000/46875 - Avg Loss (last 10000): 3.3981\n"
     ]
    },
    {
     "name": "stderr",
     "output_type": "stream",
     "text": [
      "Training: 100%|██████████| 46875/46875 [07:24<00:00, 105.47it/s]\n",
      "validating: 100%|██████████| 15625/15625 [01:35<00:00, 163.24it/s]\n"
     ]
    },
    {
     "name": "stdout",
     "output_type": "stream",
     "text": [
      "Validation Loss: 5.3512, Accuracy: 0.4133, Precision: 0.4340, Recall: 0.4133\n",
      "Epoch 9/10 - Train Loss: 0.0526, Train Acc: 0.6474, Prec: 0.6584, Recall: 0.6474, Val Acc: 0.4133, Val Prec: 0.4340, Val Recall: 0.4133\n"
     ]
    },
    {
     "name": "stderr",
     "output_type": "stream",
     "text": [
      "Training:  21%|██▏       | 10015/46875 [01:34<06:00, 102.26it/s]"
     ]
    },
    {
     "name": "stdout",
     "output_type": "stream",
     "text": [
      "[Epoch 10] Batch 10000/46875 - Avg Loss (last 10000): 3.2449\n"
     ]
    },
    {
     "name": "stderr",
     "output_type": "stream",
     "text": [
      "Training:  43%|████▎     | 20011/46875 [03:09<04:07, 108.47it/s]"
     ]
    },
    {
     "name": "stdout",
     "output_type": "stream",
     "text": [
      "[Epoch 10] Batch 20000/46875 - Avg Loss (last 10000): 3.2488\n"
     ]
    },
    {
     "name": "stderr",
     "output_type": "stream",
     "text": [
      "Training:  64%|██████▍   | 30015/46875 [04:44<02:43, 102.81it/s]"
     ]
    },
    {
     "name": "stdout",
     "output_type": "stream",
     "text": [
      "[Epoch 10] Batch 30000/46875 - Avg Loss (last 10000): 3.2524\n"
     ]
    },
    {
     "name": "stderr",
     "output_type": "stream",
     "text": [
      "Training:  85%|████████▌ | 40012/46875 [06:18<01:06, 102.44it/s]"
     ]
    },
    {
     "name": "stdout",
     "output_type": "stream",
     "text": [
      "[Epoch 10] Batch 40000/46875 - Avg Loss (last 10000): 3.2595\n"
     ]
    },
    {
     "name": "stderr",
     "output_type": "stream",
     "text": [
      "Training: 100%|██████████| 46875/46875 [07:24<00:00, 105.47it/s]\n",
      "validating: 100%|██████████| 15625/15625 [01:36<00:00, 162.47it/s]\n"
     ]
    },
    {
     "name": "stdout",
     "output_type": "stream",
     "text": [
      "Validation Loss: 5.3716, Accuracy: 0.4132, Precision: 0.4325, Recall: 0.4132\n",
      "Epoch 10/10 - Train Loss: 0.0508, Train Acc: 0.6724, Prec: 0.6827, Recall: 0.6724, Val Acc: 0.4132, Val Prec: 0.4325, Val Recall: 0.4132\n",
      "Model saved at: trained_models/models/medal_glove_simple_lstm_and_self_attention_model_model.pth\n"
     ]
    }
   ],
   "source": [
    "# Use the new dataloaders\n",
    "model_trainer = ModelTrainer(config_file='config.yaml')\n",
    "train_results = model_trainer.train(\n",
    "    trainloader,\n",
    "    valloader,\n",
    "    dataset='medal',\n",
    "    embedding_dim=100,\n",
    "    embedding_model = glove_embedding_model\n",
    ")"
   ]
  },
  {
   "cell_type": "markdown",
   "metadata": {},
   "source": [
    "#### Visualize the training results"
   ]
  },
  {
   "cell_type": "code",
   "execution_count": 13,
   "metadata": {},
   "outputs": [
    {
     "data": {
      "image/png": "[encoded data removed]",
      "text/plain": [
       "<Figure size 1800x600 with 3 Axes>"
      ]
     },
     "metadata": {},
     "output_type": "display_data"
    }
   ],
   "source": [
    "model_trainer.plot_results(train_results)"
   ]
  },
  {
   "cell_type": "markdown",
   "metadata": {},
   "source": [
    "#### Testing the model"
   ]
  },
  {
   "cell_type": "code",
   "execution_count": 10,
   "metadata": {},
   "outputs": [
    {
     "data": {
      "application/vnd.jupyter.widget-view+json": {
       "model_id": "0617b4049db44b1ea717c161203550f2",
       "version_major": 2,
       "version_minor": 0
      },
      "text/plain": [
       "VBox(children=(HBox(children=(IntProgress(value=0, description='0.00%', max=125000), Label(value='0 / 125000')…"
      ]
     },
     "metadata": {},
     "output_type": "display_data"
    },
    {
     "name": "stderr",
     "output_type": "stream",
     "text": [
      "Documents: 100%|██████████| 1000000/1000000 [00:33<00:00, 30276.71it/s]\n"
     ]
    },
    {
     "name": "stdout",
     "output_type": "stream",
     "text": [
      "Parquet file saved successfully!\n"
     ]
    }
   ],
   "source": [
    "tokens_and_locations = medal_dataset.tokenize('whitespace', splits=['test'])\n",
    "contexts = medal_dataset.extract_context_from_tokens(\n",
    "    tokens_and_locations,\n",
    "    context_window=config['datasets']['medal']['context_window'])\n",
    "contexts_df = pd.DataFrame({\n",
    "    'ABSTRACT_ID': medal_dataset.test_data['ABSTRACT_ID'],\n",
    "    'CONTEXT': contexts})\n",
    "contexts_df.head()\n",
    "\n",
    "# Save as a Parquet file\n",
    "dir = ProjectPaths.DATASET_DIR.value / 'medal' / 'whitespace_tokenized_subset'\n",
    "dir.mkdir(parents=True, exist_ok=True)\n",
    "file_name = dir / \"test.parquet\"\n",
    "contexts_df.to_parquet(file_name)\n",
    "print('Parquet file saved successfully!')\n"
   ]
  },
  {
   "cell_type": "code",
   "execution_count": 11,
   "metadata": {},
   "outputs": [],
   "source": [
    "glove_embedding_model = GloVeEmbedding(**config['embedding_models']['glove'])\n",
    "\n",
    "max_seq_len = config['datasets']['medal']['max_sequence_length']\n",
    "batch_size = config['training']['hyperparameters']['batch_size']\n",
    "\n",
    "testloader = create_lazy_dataloader(\n",
    "    'dataset/medal/whitespace_tokenized_subset/test.parquet', \n",
    "    glove_embedding_model, \n",
    "    medal_dataset.test_data['LABEL'],\n",
    "    class_to_idx, \n",
    "    batch_size=batch_size,\n",
    "    max_seq_len=max_seq_len,\n",
    "    shuffle = False\n",
    "    )"
   ]
  },
  {
   "cell_type": "code",
   "execution_count": null,
   "metadata": {},
   "outputs": [
    {
     "name": "stderr",
     "output_type": "stream",
     "text": [
      "/Users/prashanthjaganathan/Desktop/CS6120 - NLP/pretaining-language-models-for-medical-text/src/models/model_architectures/lstm_self_attention.py:29: UserWarning: To copy construct from a tensor, it is recommended to use sourceTensor.clone().detach() or sourceTensor.clone().detach().requires_grad_(True), rather than torch.tensor(sourceTensor).\n",
      "  self.embedding.weight.data.copy_(torch.tensor(embedding_model.embedding_matrix))\n"
     ]
    },
    {
     "data": {
      "text/plain": [
       "<All keys matched successfully>"
      ]
     },
     "execution_count": 12,
     "metadata": {},
     "output_type": "execute_result"
    }
   ],
   "source": [
    "model_trainer = ModelTrainer(config_file='config.yaml')\n",
    "model_name = 'lstm_and_self_attention'\n",
    "dataset_name = 'medal'\n",
    "embedding_dim = 100\n",
    "device = torch.device('cuda' if torch.cuda.is_available() else 'cpu')\n",
    "\n",
    "training_hyperparams = config['training']['hyperparameters']\n",
    "model_hyperparams = config['models'][model_name].get('hyperparameters', {})\n",
    "model_baseparams = config['models'][model_name].get('base_params', {})\n",
    "num_classes = config['datasets'][dataset_name]['num_classes']\n",
    "create_embedding_layer = config['training']['create_embedding_layer']\n",
    "embedding_model = glove_embedding_model\n",
    "\n",
    "model_params = {\n",
    "    **(model_hyperparams if model_hyperparams else {}),\n",
    "    **(model_baseparams if model_baseparams else {}),\n",
    "    'num_classes': num_classes,\n",
    "    'embedding_dim': embedding_dim,\n",
    "    'create_embedding_layer': create_embedding_layer,\n",
    "    'embedding_model': embedding_model\n",
    "}\n",
    "\n",
    "model_factory = ModelFactory()\n",
    "model = model_factory.get_model(model_name, **model_params).to(device)\n",
    "checkpoint_path = 'trained_models/models/medal_glove_simple_lstm_and_self_attention_model_model.pth'\n",
    "state_dict = torch.load(checkpoint_path, map_location=device)\n",
    "\n",
    "# NOTE: Make sure the parameters for 'lstm_and_self_attention' in config.yaml \n",
    "# match the ones used when the model was originally trained. \n",
    "# You can check the training parameters in the first line of the training log.\n",
    "\n",
    "model.load_state_dict(state_dict)"
   ]
  },
  {
   "cell_type": "code",
   "execution_count": null,
   "metadata": {},
   "outputs": [],
   "source": [
    "label_smoothing = config.get('label_smoothing', 0.1)\n",
    "class_weights = None\n",
    "\n",
    "if 'class_weights' in config['datasets'][dataset_name]:\n",
    "    with open(config['datasets'][dataset_name]['class_weights'], 'r') as f:\n",
    "        weights = json.load(f)\n",
    "\n",
    "    # Convert to torch tensor and move to device\n",
    "    class_weights = torch.tensor(weights, dtype=torch.float32).to(device)\n",
    "\n",
    "model_trainer.criterion = nn.CrossEntropyLoss(label_smoothing=label_smoothing, weight=class_weights)\n",
    "test_results = model_trainer.evaluate(\n",
    "    testloader,\n",
    "    model\n",
    ")"
   ]
  }
 ],
 "metadata": {
  "kernelspec": {
   "display_name": "medal",
   "language": "python",
   "name": "python3"
  },
  "language_info": {
   "codemirror_mode": {
    "name": "ipython",
    "version": 3
   },
   "file_extension": ".py",
   "mimetype": "text/x-python",
   "name": "python",
   "nbconvert_exporter": "python",
   "pygments_lexer": "ipython3",
   "version": "3.10.16"
  }
 },
 "nbformat": 4,
 "nbformat_minor": 2
}
