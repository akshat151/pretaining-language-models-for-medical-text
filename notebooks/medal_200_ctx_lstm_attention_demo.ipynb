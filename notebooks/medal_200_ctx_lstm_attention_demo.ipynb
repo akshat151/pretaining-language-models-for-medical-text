{
 "cells": [
  {
   "cell_type": "markdown",
   "metadata": {},
   "source": [
    "# MeDAL Dataset (200 context) - Preprocessing and Model Training with GloVe + LSTM + Self-Attention\n",
    "\n",
    "\n",
    "This notebook presents a full pipeline for training a neural network model on the MeDAL dataset, focusing on medical abbreviation disambiguation. The key steps include:\n",
    "- Ensuring reproducibility and loading project configurations.\n",
    "- Loading and preprocessing the MeDAL dataset splits (train, valid) using a whitespace tokenizer (can be adjusted as per your choice).\n",
    "- Extracting context windows of 200 words—specifically, 100 words to the left and 100 to the right of each abbreviation instance.\n",
    "- Saving tokenized context windows as `.parquet` files for efficient access.\n",
    "- Building a custom vocabulary from training data (with a minimum frequency threshold) and initializing GloVe embeddings.\n",
    "- Implementing a `LazyEmbeddingDataset` for efficient data loading and embedding lookup.\n",
    "- Training a hybrid LSTM + Multi-Head Self-Attention model with residual connections, attention-based summarization, and contextual features.\n",
    "- Leveraging a reusable ModelTrainer class for training and evaluation, including training visualizations.\n",
    "\n",
    "\n",
    "This setup provides a solid foundation for experimenting with different embedding strategies and model architectures for medical abbreviation expansion tasks."
   ]
  },
  {
   "cell_type": "code",
   "execution_count": 1,
   "metadata": {},
   "outputs": [
    {
     "name": "stdout",
     "output_type": "stream",
     "text": [
      "Environment set up: sys.path updated, working dir set to project root.\n"
     ]
    },
    {
     "name": "stderr",
     "output_type": "stream",
     "text": [
      "[nltk_data] Downloading package stopwords to\n",
      "[nltk_data]     /Users/prashanthjaganathan/nltk_data...\n",
      "[nltk_data]   Package stopwords is already up-to-date!\n",
      "[nltk_data] Downloading package stopwords to\n",
      "[nltk_data]     /Users/prashanthjaganathan/nltk_data...\n",
      "[nltk_data]   Package stopwords is already up-to-date!\n"
     ]
    },
    {
     "name": "stdout",
     "output_type": "stream",
     "text": [
      "INFO: Pandarallel will run on 8 workers.\n",
      "INFO: Pandarallel will use standard multiprocessing data transfer (pipe) to transfer data between the main process and workers.\n"
     ]
    }
   ],
   "source": [
    "%load_ext autoreload\n",
    "%autoreload 2\n",
    "%run ../setup.py\n",
    "\n",
    "from src.data.medal import MeDALSubset\n",
    "import pandas as pd\n",
    "from torch.utils.data import Dataset, DataLoader\n",
    "import yaml\n",
    "from src.models.trainer import ModelTrainer\n",
    "from src.vectorizer.trainable import TrainableEmbedding\n",
    "from src.vectorizer.glove_embeddings import GloVeEmbedding\n",
    "from sklearn.decomposition import TruncatedSVD\n",
    "from tqdm import tqdm\n",
    "from env import ProjectPaths\n",
    "from src.utils import save_embeddings_to_file\n",
    "import pyarrow.parquet as pq\n",
    "import numpy as np\n",
    "from tqdm import tqdm\n",
    "from env import ProjectPaths\n",
    "import yaml\n",
    "from src.models.factory import ModelFactory\n",
    "from torch.optim import Adam, AdamW\n",
    "from torch.nn import CrossEntropyLoss\n",
    "import torch.nn as nn\n",
    "import torch\n",
    "import matplotlib.pyplot as plt\n",
    "from torch.optim.lr_scheduler import LambdaLR\n",
    "import math\n",
    "from sklearn.metrics import accuracy_score, precision_score, recall_score\n",
    "import json\n",
    "import random\n",
    "\n",
    "# random seed for reproducibility\n",
    "SEED = 42\n",
    "random.seed(SEED)\n",
    "np.random.seed(SEED)\n",
    "torch.manual_seed(SEED)\n",
    "torch.cuda.manual_seed(SEED)\n",
    "torch.cuda.manual_seed_all(SEED)\n",
    "torch.backends.cudnn.deterministic = True\n",
    "torch.backends.cudnn.benchmark = False"
   ]
  },
  {
   "cell_type": "markdown",
   "metadata": {},
   "source": [
    "#### Download and load the dataset"
   ]
  },
  {
   "cell_type": "code",
   "execution_count": 2,
   "metadata": {},
   "outputs": [
    {
     "name": "stdout",
     "output_type": "stream",
     "text": [
      "MeDAL dataset initialized with name: MeDAL\n",
      "Dataset downloaded to: /home/jaganathan.p/.cache/kagglehub/datasets/xhlulu/medal-emnlp/versions/4\n",
      "Dataset moved to: /home/jaganathan.p/pretaining-language-models-for-medical-text/dataset\n",
      "Total number of classes: 22555\n"
     ]
    }
   ],
   "source": [
    "medal_dataset = MeDALSubset('MeDAL')\n",
    "data, train_data, val_data, test_data = medal_dataset.load_dataset()\n",
    "class_to_idx = medal_dataset.class_to_idx\n",
    "del data, val_data, test_data"
   ]
  },
  {
   "cell_type": "markdown",
   "metadata": {},
   "source": [
    "#### Load configurations"
   ]
  },
  {
   "cell_type": "code",
   "execution_count": 23,
   "metadata": {},
   "outputs": [
    {
     "name": "stdout",
     "output_type": "stream",
     "text": [
      "The autoreload extension is already loaded. To reload it, use:\n",
      "  %reload_ext autoreload\n"
     ]
    }
   ],
   "source": [
    "%load_ext autoreload\n",
    "%autoreload 2\n",
    "\n",
    "def load_config(path):\n",
    "    with open(path, 'r') as f:\n",
    "        return yaml.safe_load(f)\n",
    "\n",
    "config = load_config('config/config.yaml')"
   ]
  },
  {
   "cell_type": "markdown",
   "metadata": {},
   "source": [
    "#### Tokenize train and valid sets using whitespace tokenizer and store in `.parquet` file"
   ]
  },
  {
   "cell_type": "code",
   "execution_count": 16,
   "metadata": {},
   "outputs": [
    {
     "data": {
      "application/vnd.jupyter.widget-view+json": {
       "model_id": "7fd091e9cfe4404b8ca580da077edfcc",
       "version_major": 2,
       "version_minor": 0
      },
      "text/plain": [
       "VBox(children=(HBox(children=(IntProgress(value=0, description='0.00%', max=53572), Label(value='0 / 53572')))…"
      ]
     },
     "metadata": {},
     "output_type": "display_data"
    },
    {
     "name": "stderr",
     "output_type": "stream",
     "text": [
      "Documents: 100%|██████████| 3000000/3000000 [00:59<00:00, 50517.62it/s] \n"
     ]
    },
    {
     "name": "stdout",
     "output_type": "stream",
     "text": [
      "Parquet file saved successfully!\n"
     ]
    }
   ],
   "source": [
    "tokens_and_locations = medal_dataset.tokenize('whitespace', splits=['train'])\n",
    "contexts = medal_dataset.extract_context_from_tokens(\n",
    "    tokens_and_locations,\n",
    "    context_window=config['datasets']['medal']['context_window'])\n",
    "contexts_df = pd.DataFrame({\n",
    "    'ABSTRACT_ID': medal_dataset.train_data['ABSTRACT_ID'],\n",
    "    'CONTEXT': contexts})\n",
    "contexts_df.head()\n",
    "\n",
    "# Save as a Parquet file\n",
    "dir = ProjectPaths.DATASET_DIR.value / 'medal' / 'whitespace_tokenized_subset_200_ctx'\n",
    "dir.mkdir(parents=True, exist_ok=True)\n",
    "file_name = dir / \"train.parquet\"\n",
    "contexts_df.to_parquet(file_name)\n",
    "print('Parquet file saved successfully!')\n"
   ]
  },
  {
   "cell_type": "code",
   "execution_count": 17,
   "metadata": {},
   "outputs": [
    {
     "data": {
      "application/vnd.jupyter.widget-view+json": {
       "model_id": "66ef56a23d2142408dcf9c25b7fe217c",
       "version_major": 2,
       "version_minor": 0
      },
      "text/plain": [
       "VBox(children=(HBox(children=(IntProgress(value=0, description='0.00%', max=17858), Label(value='0 / 17858')))…"
      ]
     },
     "metadata": {},
     "output_type": "display_data"
    },
    {
     "name": "stderr",
     "output_type": "stream",
     "text": [
      "Documents: 100%|██████████| 999999/999999 [00:21<00:00, 47243.47it/s] \n"
     ]
    },
    {
     "name": "stdout",
     "output_type": "stream",
     "text": [
      "Parquet file saved successfully!\n"
     ]
    }
   ],
   "source": [
    "tokens_and_locations = medal_dataset.tokenize('whitespace', splits=['valid'])\n",
    "contexts = medal_dataset.extract_context_from_tokens(\n",
    "    tokens_and_locations,\n",
    "    context_window=config['datasets']['medal']['context_window'])\n",
    "contexts_df = pd.DataFrame({\n",
    "    'ABSTRACT_ID': medal_dataset.val_data['ABSTRACT_ID'],\n",
    "    'CONTEXT': contexts})\n",
    "contexts_df.head()\n",
    "\n",
    "# Save as a Parquet file\n",
    "dir = ProjectPaths.DATASET_DIR.value / 'medal' / 'whitespace_tokenized_subset_200_ctx'\n",
    "dir.mkdir(parents=True, exist_ok=True)\n",
    "file_name = dir / \"valid.parquet\"\n",
    "contexts_df.to_parquet(file_name)\n",
    "print('Parquet file saved successfully!')\n"
   ]
  },
  {
   "cell_type": "code",
   "execution_count": 5,
   "metadata": {},
   "outputs": [
    {
     "name": "stderr",
     "output_type": "stream",
     "text": [
      "Docs: 100%|██████████| 3000000/3000000 [00:33<00:00, 88974.83it/s] \n"
     ]
    },
    {
     "name": "stdout",
     "output_type": "stream",
     "text": [
      "Number of documents in train corpus: 3000000\n"
     ]
    }
   ],
   "source": [
    "train_tokens = pd.read_parquet(\"dataset/medal/whitespace_tokenized_subset_200_ctx/train.parquet\", engine=\"pyarrow\").squeeze()\n",
    "\n",
    "# to make it as a list[list[str]]\n",
    "tokenized_train_corpus = [context.tolist() for context in tqdm(train_tokens['CONTEXT'], 'Docs', len(train_tokens['CONTEXT']))] \n",
    "print(f'Number of documents in train corpus: {len(tokenized_train_corpus)}')"
   ]
  },
  {
   "cell_type": "markdown",
   "metadata": {},
   "source": [
    "#### Create vocabulary from the train set"
   ]
  },
  {
   "cell_type": "code",
   "execution_count": 24,
   "metadata": {},
   "outputs": [
    {
     "name": "stdout",
     "output_type": "stream",
     "text": [
      "External vocab size: 1002737\n"
     ]
    }
   ],
   "source": [
    "from collections import Counter\n",
    "\n",
    "min_word_freq = 2\n",
    "counter = Counter()\n",
    "# tokenized_train_corpus is a list of tuples: (list_of_tokens, abbreviation)\n",
    "for tokens in tokenized_train_corpus:\n",
    "    counter.update(tokens)\n",
    "\n",
    "external_vocab = {\"<PAD>\": 0, \"<UNK>\": 1}\n",
    "for token, freq in counter.items():\n",
    "    if freq >= min_word_freq:\n",
    "        external_vocab[token] = len(external_vocab)\n",
    "\n",
    "print(f\"External vocab size: {len(external_vocab)}\")"
   ]
  },
  {
   "cell_type": "code",
   "execution_count": 25,
   "metadata": {},
   "outputs": [],
   "source": [
    "config_glove = config['embedding_models']['glove']\n",
    "config_glove['external_vocab'] = external_vocab  # Pass the external vocabulary"
   ]
  },
  {
   "cell_type": "markdown",
   "metadata": {},
   "source": [
    "### Model Training\n",
    "\n",
    "First, let's create the dataloader with embeddings as features and labels."
   ]
  },
  {
   "cell_type": "code",
   "execution_count": 26,
   "metadata": {},
   "outputs": [],
   "source": [
    "class LazyEmbeddingDataset(Dataset):\n",
    "    def __init__(\n",
    "            self, \n",
    "            file_path, \n",
    "            embedding_model, \n",
    "            labels, \n",
    "            class_to_idx, \n",
    "            return_tokens=True,\n",
    "            max_seq_len=None):\n",
    "        \"\"\"\n",
    "        Args:\n",
    "            file_path (str): Path to the Parquet file containing the tokenized text.\n",
    "            embedding_model: The custom embedding model (e.g., GloVeEmbedding).\n",
    "            labels (list): Labels corresponding to each document.\n",
    "            class_to_idx (dict): Mapping from class label to integer index.\n",
    "            max_seq_len (int, optional): Max sequence length for padding/truncating.\n",
    "        \"\"\"\n",
    "        self.file_path = file_path\n",
    "        table = pq.read_table(self.file_path)\n",
    "        self.tokenized_corpus = table['CONTEXT']  # Assuming the corpus is tokenized in the file\n",
    "        self.embedding_model = embedding_model\n",
    "        self.labels = labels\n",
    "        self.class_to_idx = class_to_idx\n",
    "        self.max_seq_len = max_seq_len\n",
    "        self.label_names = set(self.labels)\n",
    "        self.return_tokens = return_tokens\n",
    "\n",
    "    def __len__(self):\n",
    "        return len(self.labels)\n",
    "\n",
    "    def __getitem__(self, idx):\n",
    "        # Get the tokens for the current document\n",
    "        tokens = self.tokenized_corpus[idx].as_py()  # Convert PyArrow StringScalar to string\n",
    "\n",
    "        if self.return_tokens:\n",
    "            embeddings = self.embedding_model.token_indices(tokens)\n",
    "        else:\n",
    "            # Compute the embeddings for this document on the fly using the embedding model\n",
    "            embeddings = self.embedding_model.embed(tokens)  # shape: (seq_len, embedding_dim)\n",
    "\n",
    "        # Convert to numpy arrays\n",
    "        # embeddings = np.array(embeddings, dtype=np.float32)\n",
    "        seq_len = len(embeddings)\n",
    "        embedding_dim = self.embedding_model.embedding_dim\n",
    "        embeddings = embeddings + [0] * (self.max_seq_len - seq_len) if seq_len < self.max_seq_len else embeddings[:self.max_seq_len]\n",
    "\n",
    "        # Padding/Truncation based on max_seq_len\n",
    "        # if self.max_seq_len is not None:\n",
    "        #     if seq_len < self.max_seq_len:\n",
    "        #         if self.return_tokens:\n",
    "        #             pad = np.zeros((self.max_seq_len - seq_len), dtype=np.float32)\n",
    "        #             embeddings = np.concatenate((embeddings, pad), axis=0)\n",
    "        #         else:\n",
    "        #             pad = np.zeros((self.max_seq_len - seq_len, embedding_dim), dtype=np.float32)\n",
    "        #             embeddings = np.vstack([embeddings, pad])\n",
    "        #     else:\n",
    "        #         embeddings = embeddings[:self.max_seq_len]\n",
    "\n",
    "        # Mask to indicate valid tokens\n",
    "        mask = np.ones(seq_len, dtype=np.float32)\n",
    "        if self.max_seq_len is not None and seq_len < self.max_seq_len:\n",
    "            mask = np.concatenate([mask, np.zeros(self.max_seq_len - seq_len, dtype=np.float32)])\n",
    "\n",
    "        # Convert label to index\n",
    "        label = self.labels[idx]\n",
    "        label_idx = self.class_to_idx[label]\n",
    "\n",
    "        return (torch.tensor(embeddings, dtype=torch.long),\n",
    "                torch.tensor(mask, dtype=torch.long),  # Return the mask\n",
    "                torch.tensor(label_idx, dtype=torch.long))\n",
    "\n",
    "\n",
    "def create_lazy_dataloader(file_path, embedding_model, labels, class_to_idx, batch_size, max_seq_len=None, shuffle=False):\n",
    "    dataset = LazyEmbeddingDataset(file_path, embedding_model, labels, class_to_idx, max_seq_len=max_seq_len, return_tokens=True)\n",
    "    \n",
    "    return DataLoader(\n",
    "        dataset, \n",
    "        batch_size=batch_size, \n",
    "        shuffle=shuffle, \n",
    "        num_workers=16, \n",
    "        pin_memory=True\n",
    "        )\n",
    "    # return dataset"
   ]
  },
  {
   "cell_type": "code",
   "execution_count": 27,
   "metadata": {},
   "outputs": [],
   "source": [
    "glove_embedding_model = GloVeEmbedding(**config['embedding_models']['glove'])\n",
    "\n",
    "max_seq_len = config['datasets']['medal']['max_sequence_length']\n",
    "batch_size = config['training']['hyperparameters']['batch_size']\n",
    "\n",
    "trainloader = create_lazy_dataloader(\n",
    "    'dataset/medal/whitespace_tokenized_subset_200_ctx/train.parquet', \n",
    "    glove_embedding_model, \n",
    "    medal_dataset.train_data['LABEL'],\n",
    "    class_to_idx, \n",
    "    batch_size=batch_size,\n",
    "    max_seq_len=max_seq_len,\n",
    "    shuffle=True\n",
    ")\n",
    "\n",
    "\n",
    "valloader = create_lazy_dataloader(\n",
    "    'dataset/medal/whitespace_tokenized_subset_200_ctx/valid.parquet', \n",
    "    glove_embedding_model, \n",
    "    medal_dataset.val_data['LABEL'],\n",
    "    class_to_idx, \n",
    "    batch_size=batch_size,\n",
    "    max_seq_len=max_seq_len,\n",
    "    shuffle = False\n",
    "    )"
   ]
  },
  {
   "cell_type": "markdown",
   "metadata": {},
   "source": [
    "#### Execute training pipeline"
   ]
  },
  {
   "cell_type": "code",
   "execution_count": 10,
   "metadata": {},
   "outputs": [
    {
     "name": "stdout",
     "output_type": "stream",
     "text": [
      "------- lstm_and_self_attention --------\n",
      "{'lstm_units': 2, 'lstm_hidden_dim': 128, 'num_attention_heads': 16, 'dropout': 0.3, 'max_sequence_length': 200, 'num_classes': 22555, 'embedding_dim': 100, 'create_embedding_layer': True, 'embedding_model': <src.vectorizer.glove_embeddings.GloVeEmbedding object at 0x2ba0961b92d0>}\n"
     ]
    },
    {
     "name": "stderr",
     "output_type": "stream",
     "text": [
      "/home/jaganathan.p/pretaining-language-models-for-medical-text/src/models/model_architectures/lstm_self_attention.py:29: UserWarning: To copy construct from a tensor, it is recommended to use sourceTensor.clone().detach() or sourceTensor.clone().detach().requires_grad_(True), rather than torch.tensor(sourceTensor).\n",
      "  self.embedding.weight.data.copy_(torch.tensor(embedding_model.embedding_matrix))\n",
      "Training:  21%|██▏       | 10008/46875 [02:31<09:17, 66.16it/s]"
     ]
    },
    {
     "name": "stdout",
     "output_type": "stream",
     "text": [
      "[Epoch 1] Batch 10000/46875 - Avg Loss (last 10000): 7.7958\n"
     ]
    },
    {
     "name": "stderr",
     "output_type": "stream",
     "text": [
      "Training:  43%|████▎     | 20011/46875 [05:02<06:53, 64.99it/s]"
     ]
    },
    {
     "name": "stdout",
     "output_type": "stream",
     "text": [
      "[Epoch 1] Batch 20000/46875 - Avg Loss (last 10000): 4.7447\n"
     ]
    },
    {
     "name": "stderr",
     "output_type": "stream",
     "text": [
      "Training:  64%|██████▍   | 30007/46875 [07:33<04:15, 65.99it/s]"
     ]
    },
    {
     "name": "stdout",
     "output_type": "stream",
     "text": [
      "[Epoch 1] Batch 30000/46875 - Avg Loss (last 10000): 3.5812\n"
     ]
    },
    {
     "name": "stderr",
     "output_type": "stream",
     "text": [
      "Training:  85%|████████▌ | 40013/46875 [10:12<01:42, 66.67it/s]"
     ]
    },
    {
     "name": "stdout",
     "output_type": "stream",
     "text": [
      "[Epoch 1] Batch 40000/46875 - Avg Loss (last 10000): 3.3684\n"
     ]
    },
    {
     "name": "stderr",
     "output_type": "stream",
     "text": [
      "Training: 100%|██████████| 46875/46875 [11:57<00:00, 65.33it/s]\n",
      "validating:   0%|          | 0/15625 [00:00<?, ?it/s]/home/jaganathan.p/.conda/envs/medal/lib/python3.10/site-packages/torch/utils/data/dataloader.py:624: UserWarning: This DataLoader will create 16 worker processes in total. Our suggested max number of worker in current system is 4, which is smaller than what this DataLoader is going to create. Please be aware that excessive worker creation might get DataLoader running slow or even freeze, lower the worker number to avoid potential slowness/freeze if necessary.\n",
      "  warnings.warn(\n",
      "validating: 100%|██████████| 15625/15625 [01:39<00:00, 157.77it/s]\n"
     ]
    },
    {
     "name": "stdout",
     "output_type": "stream",
     "text": [
      "Validation Loss: 2.9442, Accuracy: 0.6549, Precision: 0.6663, Recall: 0.6549\n",
      "Epoch 1/10 - Train Loss: 0.0725, Train Acc: 0.4398, Prec: 0.4478, Recall: 0.4398, Val Acc: 0.6549, Val Prec: 0.6663, Val Recall: 0.6549\n"
     ]
    },
    {
     "name": "stderr",
     "output_type": "stream",
     "text": [
      "/home/jaganathan.p/.conda/envs/medal/lib/python3.10/site-packages/torch/utils/data/dataloader.py:624: UserWarning: This DataLoader will create 16 worker processes in total. Our suggested max number of worker in current system is 4, which is smaller than what this DataLoader is going to create. Please be aware that excessive worker creation might get DataLoader running slow or even freeze, lower the worker number to avoid potential slowness/freeze if necessary.\n",
      "  warnings.warn(\n",
      "Training:  21%|██▏       | 10009/46875 [02:31<09:15, 66.40it/s]"
     ]
    },
    {
     "name": "stdout",
     "output_type": "stream",
     "text": [
      "[Epoch 2] Batch 10000/46875 - Avg Loss (last 10000): 3.1314\n"
     ]
    },
    {
     "name": "stderr",
     "output_type": "stream",
     "text": [
      "Training:  43%|████▎     | 20012/46875 [05:03<06:44, 66.41it/s]"
     ]
    },
    {
     "name": "stdout",
     "output_type": "stream",
     "text": [
      "[Epoch 2] Batch 20000/46875 - Avg Loss (last 10000): 3.1211\n"
     ]
    },
    {
     "name": "stderr",
     "output_type": "stream",
     "text": [
      "Training:  64%|██████▍   | 30008/46875 [07:35<04:19, 64.97it/s]"
     ]
    },
    {
     "name": "stdout",
     "output_type": "stream",
     "text": [
      "[Epoch 2] Batch 30000/46875 - Avg Loss (last 10000): 3.0824\n"
     ]
    },
    {
     "name": "stderr",
     "output_type": "stream",
     "text": [
      "Training:  85%|████████▌ | 40011/46875 [10:07<01:43, 66.04it/s]"
     ]
    },
    {
     "name": "stdout",
     "output_type": "stream",
     "text": [
      "[Epoch 2] Batch 40000/46875 - Avg Loss (last 10000): 3.0558\n"
     ]
    },
    {
     "name": "stderr",
     "output_type": "stream",
     "text": [
      "Training: 100%|██████████| 46875/46875 [11:52<00:00, 65.79it/s]\n",
      "validating:   0%|          | 0/15625 [00:00<?, ?it/s]/home/jaganathan.p/.conda/envs/medal/lib/python3.10/site-packages/torch/utils/data/dataloader.py:624: UserWarning: This DataLoader will create 16 worker processes in total. Our suggested max number of worker in current system is 4, which is smaller than what this DataLoader is going to create. Please be aware that excessive worker creation might get DataLoader running slow or even freeze, lower the worker number to avoid potential slowness/freeze if necessary.\n",
      "  warnings.warn(\n",
      "validating: 100%|██████████| 15625/15625 [01:39<00:00, 156.82it/s]\n"
     ]
    },
    {
     "name": "stdout",
     "output_type": "stream",
     "text": [
      "Validation Loss: 2.7728, Accuracy: 0.6967, Precision: 0.7023, Recall: 0.6967\n",
      "Epoch 2/10 - Train Loss: 0.0482, Train Acc: 0.6419, Prec: 0.6341, Recall: 0.6419, Val Acc: 0.6967, Val Prec: 0.7023, Val Recall: 0.6967\n"
     ]
    },
    {
     "name": "stderr",
     "output_type": "stream",
     "text": [
      "/home/jaganathan.p/.conda/envs/medal/lib/python3.10/site-packages/torch/utils/data/dataloader.py:624: UserWarning: This DataLoader will create 16 worker processes in total. Our suggested max number of worker in current system is 4, which is smaller than what this DataLoader is going to create. Please be aware that excessive worker creation might get DataLoader running slow or even freeze, lower the worker number to avoid potential slowness/freeze if necessary.\n",
      "  warnings.warn(\n",
      "Training:  21%|██▏       | 10008/46875 [02:32<09:21, 65.67it/s]"
     ]
    },
    {
     "name": "stdout",
     "output_type": "stream",
     "text": [
      "[Epoch 3] Batch 10000/46875 - Avg Loss (last 10000): 2.9145\n"
     ]
    },
    {
     "name": "stderr",
     "output_type": "stream",
     "text": [
      "Training:  43%|████▎     | 20011/46875 [05:03<06:46, 66.16it/s]"
     ]
    },
    {
     "name": "stdout",
     "output_type": "stream",
     "text": [
      "[Epoch 3] Batch 20000/46875 - Avg Loss (last 10000): 2.9418\n"
     ]
    },
    {
     "name": "stderr",
     "output_type": "stream",
     "text": [
      "Training:  64%|██████▍   | 30007/46875 [07:35<04:14, 66.23it/s]"
     ]
    },
    {
     "name": "stdout",
     "output_type": "stream",
     "text": [
      "[Epoch 3] Batch 30000/46875 - Avg Loss (last 10000): 2.9419\n"
     ]
    },
    {
     "name": "stderr",
     "output_type": "stream",
     "text": [
      "Training:  85%|████████▌ | 40010/46875 [10:07<01:43, 66.25it/s]"
     ]
    },
    {
     "name": "stdout",
     "output_type": "stream",
     "text": [
      "[Epoch 3] Batch 40000/46875 - Avg Loss (last 10000): 2.9269\n"
     ]
    },
    {
     "name": "stderr",
     "output_type": "stream",
     "text": [
      "Training: 100%|██████████| 46875/46875 [11:53<00:00, 65.68it/s]\n",
      "validating:   0%|          | 0/15625 [00:00<?, ?it/s]/home/jaganathan.p/.conda/envs/medal/lib/python3.10/site-packages/torch/utils/data/dataloader.py:624: UserWarning: This DataLoader will create 16 worker processes in total. Our suggested max number of worker in current system is 4, which is smaller than what this DataLoader is going to create. Please be aware that excessive worker creation might get DataLoader running slow or even freeze, lower the worker number to avoid potential slowness/freeze if necessary.\n",
      "  warnings.warn(\n",
      "validating: 100%|██████████| 15625/15625 [01:39<00:00, 156.72it/s]\n"
     ]
    },
    {
     "name": "stdout",
     "output_type": "stream",
     "text": [
      "Validation Loss: 2.7075, Accuracy: 0.7134, Precision: 0.7163, Recall: 0.7134\n",
      "Epoch 3/10 - Train Loss: 0.0458, Train Acc: 0.6746, Prec: 0.6672, Recall: 0.6746, Val Acc: 0.7134, Val Prec: 0.7163, Val Recall: 0.7134\n"
     ]
    },
    {
     "name": "stderr",
     "output_type": "stream",
     "text": [
      "/home/jaganathan.p/.conda/envs/medal/lib/python3.10/site-packages/torch/utils/data/dataloader.py:624: UserWarning: This DataLoader will create 16 worker processes in total. Our suggested max number of worker in current system is 4, which is smaller than what this DataLoader is going to create. Please be aware that excessive worker creation might get DataLoader running slow or even freeze, lower the worker number to avoid potential slowness/freeze if necessary.\n",
      "  warnings.warn(\n",
      "Training:  21%|██▏       | 10012/46875 [02:32<09:27, 64.94it/s]"
     ]
    },
    {
     "name": "stdout",
     "output_type": "stream",
     "text": [
      "[Epoch 4] Batch 10000/46875 - Avg Loss (last 10000): 2.8124\n"
     ]
    },
    {
     "name": "stderr",
     "output_type": "stream",
     "text": [
      "Training:  43%|████▎     | 20008/46875 [05:04<06:50, 65.44it/s]"
     ]
    },
    {
     "name": "stdout",
     "output_type": "stream",
     "text": [
      "[Epoch 4] Batch 20000/46875 - Avg Loss (last 10000): 2.8412\n"
     ]
    },
    {
     "name": "stderr",
     "output_type": "stream",
     "text": [
      "Training:  64%|██████▍   | 30011/46875 [07:36<04:18, 65.30it/s]"
     ]
    },
    {
     "name": "stdout",
     "output_type": "stream",
     "text": [
      "[Epoch 4] Batch 30000/46875 - Avg Loss (last 10000): 2.8470\n"
     ]
    },
    {
     "name": "stderr",
     "output_type": "stream",
     "text": [
      "Training:  85%|████████▌ | 40007/46875 [10:08<01:43, 66.16it/s]"
     ]
    },
    {
     "name": "stdout",
     "output_type": "stream",
     "text": [
      "[Epoch 4] Batch 40000/46875 - Avg Loss (last 10000): 2.8453\n"
     ]
    },
    {
     "name": "stderr",
     "output_type": "stream",
     "text": [
      "Training: 100%|██████████| 46875/46875 [11:54<00:00, 65.61it/s]\n",
      "validating:   0%|          | 0/15625 [00:00<?, ?it/s]/home/jaganathan.p/.conda/envs/medal/lib/python3.10/site-packages/torch/utils/data/dataloader.py:624: UserWarning: This DataLoader will create 16 worker processes in total. Our suggested max number of worker in current system is 4, which is smaller than what this DataLoader is going to create. Please be aware that excessive worker creation might get DataLoader running slow or even freeze, lower the worker number to avoid potential slowness/freeze if necessary.\n",
      "  warnings.warn(\n",
      "validating: 100%|██████████| 15625/15625 [01:40<00:00, 155.93it/s]\n"
     ]
    },
    {
     "name": "stdout",
     "output_type": "stream",
     "text": [
      "Validation Loss: 2.6418, Accuracy: 0.7276, Precision: 0.7272, Recall: 0.7276\n",
      "Epoch 4/10 - Train Loss: 0.0443, Train Acc: 0.6938, Prec: 0.6865, Recall: 0.6938, Val Acc: 0.7276, Val Prec: 0.7272, Val Recall: 0.7276\n"
     ]
    },
    {
     "name": "stderr",
     "output_type": "stream",
     "text": [
      "/home/jaganathan.p/.conda/envs/medal/lib/python3.10/site-packages/torch/utils/data/dataloader.py:624: UserWarning: This DataLoader will create 16 worker processes in total. Our suggested max number of worker in current system is 4, which is smaller than what this DataLoader is going to create. Please be aware that excessive worker creation might get DataLoader running slow or even freeze, lower the worker number to avoid potential slowness/freeze if necessary.\n",
      "  warnings.warn(\n",
      "Training:  21%|██▏       | 10005/46875 [03:30<12:54, 47.61it/s]"
     ]
    },
    {
     "name": "stdout",
     "output_type": "stream",
     "text": [
      "[Epoch 5] Batch 10000/46875 - Avg Loss (last 10000): 2.7213\n"
     ]
    },
    {
     "name": "stderr",
     "output_type": "stream",
     "text": [
      "Training:  43%|████▎     | 20005/46875 [07:00<09:22, 47.75it/s]"
     ]
    },
    {
     "name": "stdout",
     "output_type": "stream",
     "text": [
      "[Epoch 5] Batch 20000/46875 - Avg Loss (last 10000): 2.7358\n"
     ]
    },
    {
     "name": "stderr",
     "output_type": "stream",
     "text": [
      "Training:  64%|██████▍   | 30005/46875 [10:30<05:54, 47.65it/s]"
     ]
    },
    {
     "name": "stdout",
     "output_type": "stream",
     "text": [
      "[Epoch 5] Batch 30000/46875 - Avg Loss (last 10000): 2.7239\n"
     ]
    },
    {
     "name": "stderr",
     "output_type": "stream",
     "text": [
      "Training:  85%|████████▌ | 40005/46875 [14:00<02:25, 47.32it/s]"
     ]
    },
    {
     "name": "stdout",
     "output_type": "stream",
     "text": [
      "[Epoch 5] Batch 40000/46875 - Avg Loss (last 10000): 2.7129\n"
     ]
    },
    {
     "name": "stderr",
     "output_type": "stream",
     "text": [
      "Training: 100%|██████████| 46875/46875 [16:26<00:00, 47.53it/s]\n",
      "validating:   0%|          | 0/15625 [00:00<?, ?it/s]/home/jaganathan.p/.conda/envs/medal/lib/python3.10/site-packages/torch/utils/data/dataloader.py:624: UserWarning: This DataLoader will create 16 worker processes in total. Our suggested max number of worker in current system is 4, which is smaller than what this DataLoader is going to create. Please be aware that excessive worker creation might get DataLoader running slow or even freeze, lower the worker number to avoid potential slowness/freeze if necessary.\n",
      "  warnings.warn(\n",
      "validating: 100%|██████████| 15625/15625 [01:40<00:00, 155.24it/s]\n"
     ]
    },
    {
     "name": "stdout",
     "output_type": "stream",
     "text": [
      "Validation Loss: 2.5462, Accuracy: 0.7505, Precision: 0.7496, Recall: 0.7505\n",
      "Epoch 5/10 - Train Loss: 0.0425, Train Acc: 0.7192, Prec: 0.7120, Recall: 0.7192, Val Acc: 0.7505, Val Prec: 0.7496, Val Recall: 0.7505\n"
     ]
    },
    {
     "name": "stderr",
     "output_type": "stream",
     "text": [
      "/home/jaganathan.p/.conda/envs/medal/lib/python3.10/site-packages/torch/utils/data/dataloader.py:624: UserWarning: This DataLoader will create 16 worker processes in total. Our suggested max number of worker in current system is 4, which is smaller than what this DataLoader is going to create. Please be aware that excessive worker creation might get DataLoader running slow or even freeze, lower the worker number to avoid potential slowness/freeze if necessary.\n",
      "  warnings.warn(\n",
      "Training:  21%|██▏       | 10009/46875 [03:30<12:53, 47.67it/s]"
     ]
    },
    {
     "name": "stdout",
     "output_type": "stream",
     "text": [
      "[Epoch 6] Batch 10000/46875 - Avg Loss (last 10000): 2.5692\n"
     ]
    },
    {
     "name": "stderr",
     "output_type": "stream",
     "text": [
      "Training:  43%|████▎     | 20009/46875 [07:00<09:35, 46.72it/s]"
     ]
    },
    {
     "name": "stdout",
     "output_type": "stream",
     "text": [
      "[Epoch 6] Batch 20000/46875 - Avg Loss (last 10000): 2.5994\n"
     ]
    },
    {
     "name": "stderr",
     "output_type": "stream",
     "text": [
      "Training:  64%|██████▍   | 30009/46875 [10:30<05:56, 47.32it/s]"
     ]
    },
    {
     "name": "stdout",
     "output_type": "stream",
     "text": [
      "[Epoch 6] Batch 30000/46875 - Avg Loss (last 10000): 2.6031\n"
     ]
    },
    {
     "name": "stderr",
     "output_type": "stream",
     "text": [
      "Training:  85%|████████▌ | 40009/46875 [14:00<02:23, 47.72it/s]"
     ]
    },
    {
     "name": "stdout",
     "output_type": "stream",
     "text": [
      "[Epoch 6] Batch 40000/46875 - Avg Loss (last 10000): 2.6021\n"
     ]
    },
    {
     "name": "stderr",
     "output_type": "stream",
     "text": [
      "Training: 100%|██████████| 46875/46875 [16:26<00:00, 47.53it/s]\n",
      "validating:   0%|          | 0/15625 [00:00<?, ?it/s]/home/jaganathan.p/.conda/envs/medal/lib/python3.10/site-packages/torch/utils/data/dataloader.py:624: UserWarning: This DataLoader will create 16 worker processes in total. Our suggested max number of worker in current system is 4, which is smaller than what this DataLoader is going to create. Please be aware that excessive worker creation might get DataLoader running slow or even freeze, lower the worker number to avoid potential slowness/freeze if necessary.\n",
      "  warnings.warn(\n",
      "validating: 100%|██████████| 15625/15625 [01:40<00:00, 155.59it/s]\n"
     ]
    },
    {
     "name": "stdout",
     "output_type": "stream",
     "text": [
      "Validation Loss: 2.4873, Accuracy: 0.7633, Precision: 0.7595, Recall: 0.7633\n",
      "Epoch 6/10 - Train Loss: 0.0405, Train Acc: 0.7466, Prec: 0.7396, Recall: 0.7466, Val Acc: 0.7633, Val Prec: 0.7595, Val Recall: 0.7633\n"
     ]
    },
    {
     "name": "stderr",
     "output_type": "stream",
     "text": [
      "/home/jaganathan.p/.conda/envs/medal/lib/python3.10/site-packages/torch/utils/data/dataloader.py:624: UserWarning: This DataLoader will create 16 worker processes in total. Our suggested max number of worker in current system is 4, which is smaller than what this DataLoader is going to create. Please be aware that excessive worker creation might get DataLoader running slow or even freeze, lower the worker number to avoid potential slowness/freeze if necessary.\n",
      "  warnings.warn(\n",
      "Training:  21%|██▏       | 10008/46875 [03:30<12:53, 47.69it/s]"
     ]
    },
    {
     "name": "stdout",
     "output_type": "stream",
     "text": [
      "[Epoch 7] Batch 10000/46875 - Avg Loss (last 10000): 2.4745\n"
     ]
    },
    {
     "name": "stderr",
     "output_type": "stream",
     "text": [
      "Training:  43%|████▎     | 20008/46875 [07:00<09:23, 47.68it/s]"
     ]
    },
    {
     "name": "stdout",
     "output_type": "stream",
     "text": [
      "[Epoch 7] Batch 20000/46875 - Avg Loss (last 10000): 2.5038\n"
     ]
    },
    {
     "name": "stderr",
     "output_type": "stream",
     "text": [
      "Training:  64%|██████▍   | 30008/46875 [10:30<05:53, 47.73it/s]"
     ]
    },
    {
     "name": "stdout",
     "output_type": "stream",
     "text": [
      "[Epoch 7] Batch 30000/46875 - Avg Loss (last 10000): 2.5131\n"
     ]
    },
    {
     "name": "stderr",
     "output_type": "stream",
     "text": [
      "Training:  85%|████████▌ | 40008/46875 [14:00<02:25, 47.04it/s]"
     ]
    },
    {
     "name": "stdout",
     "output_type": "stream",
     "text": [
      "[Epoch 7] Batch 40000/46875 - Avg Loss (last 10000): 2.5127\n"
     ]
    },
    {
     "name": "stderr",
     "output_type": "stream",
     "text": [
      "Training: 100%|██████████| 46875/46875 [16:26<00:00, 47.54it/s]\n",
      "validating:   0%|          | 0/15625 [00:00<?, ?it/s]/home/jaganathan.p/.conda/envs/medal/lib/python3.10/site-packages/torch/utils/data/dataloader.py:624: UserWarning: This DataLoader will create 16 worker processes in total. Our suggested max number of worker in current system is 4, which is smaller than what this DataLoader is going to create. Please be aware that excessive worker creation might get DataLoader running slow or even freeze, lower the worker number to avoid potential slowness/freeze if necessary.\n",
      "  warnings.warn(\n",
      "validating: 100%|██████████| 15625/15625 [01:40<00:00, 155.18it/s]\n"
     ]
    },
    {
     "name": "stdout",
     "output_type": "stream",
     "text": [
      "Validation Loss: 2.4435, Accuracy: 0.7728, Precision: 0.7667, Recall: 0.7728\n",
      "Epoch 7/10 - Train Loss: 0.0391, Train Acc: 0.7663, Prec: 0.7592, Recall: 0.7663, Val Acc: 0.7728, Val Prec: 0.7667, Val Recall: 0.7728\n"
     ]
    },
    {
     "name": "stderr",
     "output_type": "stream",
     "text": [
      "/home/jaganathan.p/.conda/envs/medal/lib/python3.10/site-packages/torch/utils/data/dataloader.py:624: UserWarning: This DataLoader will create 16 worker processes in total. Our suggested max number of worker in current system is 4, which is smaller than what this DataLoader is going to create. Please be aware that excessive worker creation might get DataLoader running slow or even freeze, lower the worker number to avoid potential slowness/freeze if necessary.\n",
      "  warnings.warn(\n",
      "Training:  21%|██▏       | 10009/46875 [03:30<12:53, 47.68it/s]"
     ]
    },
    {
     "name": "stdout",
     "output_type": "stream",
     "text": [
      "[Epoch 8] Batch 10000/46875 - Avg Loss (last 10000): 2.3994\n"
     ]
    },
    {
     "name": "stderr",
     "output_type": "stream",
     "text": [
      "Training:  43%|████▎     | 20009/46875 [07:00<09:23, 47.71it/s]"
     ]
    },
    {
     "name": "stdout",
     "output_type": "stream",
     "text": [
      "[Epoch 8] Batch 20000/46875 - Avg Loss (last 10000): 2.4232\n"
     ]
    },
    {
     "name": "stderr",
     "output_type": "stream",
     "text": [
      "Training:  64%|██████▍   | 30009/46875 [10:30<05:54, 47.62it/s]"
     ]
    },
    {
     "name": "stdout",
     "output_type": "stream",
     "text": [
      "[Epoch 8] Batch 30000/46875 - Avg Loss (last 10000): 2.4284\n"
     ]
    },
    {
     "name": "stderr",
     "output_type": "stream",
     "text": [
      "Training:  85%|████████▌ | 40009/46875 [14:00<02:24, 47.65it/s]"
     ]
    },
    {
     "name": "stdout",
     "output_type": "stream",
     "text": [
      "[Epoch 8] Batch 40000/46875 - Avg Loss (last 10000): 2.4306\n"
     ]
    },
    {
     "name": "stderr",
     "output_type": "stream",
     "text": [
      "Training: 100%|██████████| 46875/46875 [16:25<00:00, 47.55it/s]\n",
      "validating:   0%|          | 0/15625 [00:00<?, ?it/s]/home/jaganathan.p/.conda/envs/medal/lib/python3.10/site-packages/torch/utils/data/dataloader.py:624: UserWarning: This DataLoader will create 16 worker processes in total. Our suggested max number of worker in current system is 4, which is smaller than what this DataLoader is going to create. Please be aware that excessive worker creation might get DataLoader running slow or even freeze, lower the worker number to avoid potential slowness/freeze if necessary.\n",
      "  warnings.warn(\n",
      "validating: 100%|██████████| 15625/15625 [01:40<00:00, 154.75it/s]\n"
     ]
    },
    {
     "name": "stdout",
     "output_type": "stream",
     "text": [
      "Validation Loss: 2.4017, Accuracy: 0.7805, Precision: 0.7716, Recall: 0.7805\n",
      "Epoch 8/10 - Train Loss: 0.0378, Train Acc: 0.7845, Prec: 0.7766, Recall: 0.7845, Val Acc: 0.7805, Val Prec: 0.7716, Val Recall: 0.7805\n"
     ]
    },
    {
     "name": "stderr",
     "output_type": "stream",
     "text": [
      "/home/jaganathan.p/.conda/envs/medal/lib/python3.10/site-packages/torch/utils/data/dataloader.py:624: UserWarning: This DataLoader will create 16 worker processes in total. Our suggested max number of worker in current system is 4, which is smaller than what this DataLoader is going to create. Please be aware that excessive worker creation might get DataLoader running slow or even freeze, lower the worker number to avoid potential slowness/freeze if necessary.\n",
      "  warnings.warn(\n",
      "Training:  21%|██▏       | 10009/46875 [03:30<12:53, 47.66it/s]"
     ]
    },
    {
     "name": "stdout",
     "output_type": "stream",
     "text": [
      "[Epoch 9] Batch 10000/46875 - Avg Loss (last 10000): 2.3374\n"
     ]
    },
    {
     "name": "stderr",
     "output_type": "stream",
     "text": [
      "Training:  43%|████▎     | 20009/46875 [07:00<09:23, 47.68it/s]"
     ]
    },
    {
     "name": "stdout",
     "output_type": "stream",
     "text": [
      "[Epoch 9] Batch 20000/46875 - Avg Loss (last 10000): 2.3524\n"
     ]
    },
    {
     "name": "stderr",
     "output_type": "stream",
     "text": [
      "Training:  64%|██████▍   | 30009/46875 [10:30<05:53, 47.74it/s]"
     ]
    },
    {
     "name": "stdout",
     "output_type": "stream",
     "text": [
      "[Epoch 9] Batch 30000/46875 - Avg Loss (last 10000): 2.3594\n"
     ]
    },
    {
     "name": "stderr",
     "output_type": "stream",
     "text": [
      "Training:  85%|████████▌ | 40009/46875 [14:00<02:23, 47.76it/s]"
     ]
    },
    {
     "name": "stdout",
     "output_type": "stream",
     "text": [
      "[Epoch 9] Batch 40000/46875 - Avg Loss (last 10000): 2.3653\n"
     ]
    },
    {
     "name": "stderr",
     "output_type": "stream",
     "text": [
      "Training: 100%|██████████| 46875/46875 [16:25<00:00, 47.56it/s]\n",
      "validating:   0%|          | 0/15625 [00:00<?, ?it/s]/home/jaganathan.p/.conda/envs/medal/lib/python3.10/site-packages/torch/utils/data/dataloader.py:624: UserWarning: This DataLoader will create 16 worker processes in total. Our suggested max number of worker in current system is 4, which is smaller than what this DataLoader is going to create. Please be aware that excessive worker creation might get DataLoader running slow or even freeze, lower the worker number to avoid potential slowness/freeze if necessary.\n",
      "  warnings.warn(\n",
      "validating: 100%|██████████| 15625/15625 [01:40<00:00, 154.83it/s]\n"
     ]
    },
    {
     "name": "stdout",
     "output_type": "stream",
     "text": [
      "Validation Loss: 2.3825, Accuracy: 0.7857, Precision: 0.7744, Recall: 0.7857\n",
      "Epoch 9/10 - Train Loss: 0.0368, Train Acc: 0.8011, Prec: 0.7920, Recall: 0.8011, Val Acc: 0.7857, Val Prec: 0.7744, Val Recall: 0.7857\n"
     ]
    },
    {
     "name": "stderr",
     "output_type": "stream",
     "text": [
      "/home/jaganathan.p/.conda/envs/medal/lib/python3.10/site-packages/torch/utils/data/dataloader.py:624: UserWarning: This DataLoader will create 16 worker processes in total. Our suggested max number of worker in current system is 4, which is smaller than what this DataLoader is going to create. Please be aware that excessive worker creation might get DataLoader running slow or even freeze, lower the worker number to avoid potential slowness/freeze if necessary.\n",
      "  warnings.warn(\n",
      "Training:  21%|██▏       | 10009/46875 [03:30<12:53, 47.67it/s]"
     ]
    },
    {
     "name": "stdout",
     "output_type": "stream",
     "text": [
      "[Epoch 10] Batch 10000/46875 - Avg Loss (last 10000): 2.3089\n"
     ]
    },
    {
     "name": "stderr",
     "output_type": "stream",
     "text": [
      "Training:  43%|████▎     | 20009/46875 [07:00<09:24, 47.60it/s]"
     ]
    },
    {
     "name": "stdout",
     "output_type": "stream",
     "text": [
      "[Epoch 10] Batch 20000/46875 - Avg Loss (last 10000): 2.3156\n"
     ]
    },
    {
     "name": "stderr",
     "output_type": "stream",
     "text": [
      "Training:  64%|██████▍   | 30009/46875 [10:30<05:52, 47.79it/s]"
     ]
    },
    {
     "name": "stdout",
     "output_type": "stream",
     "text": [
      "[Epoch 10] Batch 30000/46875 - Avg Loss (last 10000): 2.3134\n"
     ]
    },
    {
     "name": "stderr",
     "output_type": "stream",
     "text": [
      "Training:  85%|████████▌ | 40009/46875 [14:00<02:25, 47.06it/s]"
     ]
    },
    {
     "name": "stdout",
     "output_type": "stream",
     "text": [
      "[Epoch 10] Batch 40000/46875 - Avg Loss (last 10000): 2.3147\n"
     ]
    },
    {
     "name": "stderr",
     "output_type": "stream",
     "text": [
      "Training: 100%|██████████| 46875/46875 [16:26<00:00, 47.54it/s]\n",
      "validating:   0%|          | 0/15625 [00:00<?, ?it/s]/home/jaganathan.p/.conda/envs/medal/lib/python3.10/site-packages/torch/utils/data/dataloader.py:624: UserWarning: This DataLoader will create 16 worker processes in total. Our suggested max number of worker in current system is 4, which is smaller than what this DataLoader is going to create. Please be aware that excessive worker creation might get DataLoader running slow or even freeze, lower the worker number to avoid potential slowness/freeze if necessary.\n",
      "  warnings.warn(\n",
      "validating: 100%|██████████| 15625/15625 [01:46<00:00, 146.84it/s]\n"
     ]
    },
    {
     "name": "stdout",
     "output_type": "stream",
     "text": [
      "Validation Loss: 2.3814, Accuracy: 0.7869, Precision: 0.7748, Recall: 0.7869\n",
      "Epoch 10/10 - Train Loss: 0.0362, Train Acc: 0.8124, Prec: 0.8025, Recall: 0.8124, Val Acc: 0.7869, Val Prec: 0.7748, Val Recall: 0.7869\n",
      "Model saved at: trained_models/models/medal_glove_200ctx_lstm_and_self_attention_model_model.pth\n"
     ]
    }
   ],
   "source": [
    "# Use the new dataloaders\n",
    "model_trainer = ModelTrainer(config_file='config.yaml')\n",
    "train_results = model_trainer.train(\n",
    "    trainloader,\n",
    "    valloader,\n",
    "    dataset='medal',\n",
    "    embedding_dim=100,\n",
    "    embedding_model = glove_embedding_model\n",
    ")"
   ]
  },
  {
   "cell_type": "markdown",
   "metadata": {},
   "source": [
    "#### Visualize the training results"
   ]
  },
  {
   "cell_type": "code",
   "execution_count": null,
   "metadata": {},
   "outputs": [
    {
     "data": {
      "image/png": "[encoded data removed]",
      "text/plain": [
       "<Figure size 1200x500 with 2 Axes>"
      ]
     },
     "metadata": {},
     "output_type": "display_data"
    }
   ],
   "source": [
    "model_trainer.plot_results(train_results)"
   ]
  },
  {
   "cell_type": "markdown",
   "metadata": {},
   "source": [
    "#### Testing the model"
   ]
  },
  {
   "cell_type": "code",
   "execution_count": 38,
   "metadata": {},
   "outputs": [],
   "source": [
    "model_trainer = ModelTrainer(config_file='config.yaml')"
   ]
  },
  {
   "cell_type": "code",
   "execution_count": null,
   "metadata": {},
   "outputs": [],
   "source": [
    "dataset = 'medal'\n",
    "def test_trained_model(**kwargs):\n",
    "    model_factory = ModelFactory()\n",
    "    device = torch.device('cuda' if torch.cuda.is_available() else 'cpu')\n",
    "    print(device)\n",
    "    for model_name in config['model_names']:\n",
    "        print(f'------- {model_name} --------')\n",
    "\n",
    "        training_hyperparams = config['training']['hyperparameters']\n",
    "        model_hyperparams = config['models'][model_name].get('hyperparameters', {})\n",
    "        model_baseparams = config['models'][model_name].get('base_params', {})\n",
    "        num_classes = config['datasets'][dataset]['num_classes']\n",
    "        create_embedding_layer = config['training']['create_embedding_layer']\n",
    "        embedding_model = kwargs.get('embedding_model', None)\n",
    "        embedding_dim = 100\n",
    "        model_params = {\n",
    "            **(model_hyperparams if model_hyperparams else {}),\n",
    "            **(model_baseparams if model_baseparams else {}),\n",
    "            'num_classes': num_classes,\n",
    "            'embedding_dim': embedding_dim,\n",
    "            'create_embedding_layer': create_embedding_layer,\n",
    "            'embedding_model': embedding_model\n",
    "        }\n",
    "\n",
    "        print(model_params)\n",
    "        model: nn.Module = model_factory.get_model(model_name, **model_params).to(device)\n",
    "        model_path = 'trained_models/models/medal_glove_200ctx_lstm_and_self_attention_model_model.pth'\n",
    "        state_dict = torch.load(model_path, map_location='cpu')  # or 'cuda' if using GPU\n",
    "        model.load_state_dict(state_dict)\n",
    "        \n",
    "        \n",
    "        loss_fn = config['datasets'][dataset]['loss_function']\n",
    "        label_smoothing = config.get('label_smoothing', 0.1)\n",
    "        class_weights = None\n",
    "\n",
    "        if 'class_weights' in config['datasets'][dataset]:\n",
    "            with open(config['datasets'][dataset]['class_weights'], 'r') as f:\n",
    "                weights = json.load(f)\n",
    "\n",
    "            # Convert to torch tensor and move to device\n",
    "            class_weights = torch.tensor(weights, dtype=torch.float32).to(device)\n",
    "\n",
    "        criterion = nn.CrossEntropyLoss(label_smoothing=label_smoothing, weight=class_weights)\n",
    "\n",
    "        optimizer_name = config['training']['optimizer']\n",
    "        learning_rate = training_hyperparams['learning_rate']\n",
    "        weight_decay = config['training']['weight_decay']\n",
    "\n",
    "        if optimizer_name == 'adam':\n",
    "            optimizer = AdamW(model.parameters(), lr=learning_rate, weight_decay=weight_decay)\n",
    "    \n",
    "    val_results = model_trainer.evaluate(\n",
    "        valloader, \n",
    "        model,\n",
    "        criterion\n",
    "        )\n",
    "    \n",
    "test_trained_model(embedding_model=glove_embedding_model)"
   ]
  },
  {
   "cell_type": "code",
   "execution_count": null,
   "metadata": {},
   "outputs": [],
   "source": []
  }
 ],
 "metadata": {
  "kernelspec": {
   "display_name": "medal",
   "language": "python",
   "name": "python3"
  },
  "language_info": {
   "codemirror_mode": {
    "name": "ipython",
    "version": 3
   },
   "file_extension": ".py",
   "mimetype": "text/x-python",
   "name": "python",
   "nbconvert_exporter": "python",
   "pygments_lexer": "ipython3",
   "version": "3.10.16"
  }
 },
 "nbformat": 4,
 "nbformat_minor": 4
}
