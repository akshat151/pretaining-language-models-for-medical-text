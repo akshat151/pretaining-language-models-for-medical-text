{
 "cells": [
  {
   "cell_type": "markdown",
   "id": "b5f76f0e",
   "metadata": {},
   "source": [
    "# Training LSTM + Self-Attention Model on Medical Abstracts Dataset\n",
    "\n",
    "In this part, we used the Medical Abstracts dataset to try a downstream task: \n",
    "classifying different diseases based on the abstract text.\n",
    "\n",
    "Right now, we didn’t fine-tune a pre-trained model. Instead, we trained the LSTM + Self-Attention (SA) model \n",
    "completely from scratch using this dataset.\n",
    "\n",
    "We used the [Medical Abstracts dataset](https://huggingface.co/datasets/TimSchopf/medical_abstracts) from Hugging Face.\n"
   ]
  },
  {
   "cell_type": "code",
   "execution_count": null,
   "id": "e18e6b8d",
   "metadata": {},
   "outputs": [
    {
     "name": "stdout",
     "output_type": "stream",
     "text": [
      "The autoreload extension is already loaded. To reload it, use:\n",
      "  %reload_ext autoreload\n"
     ]
    }
   ],
   "source": [
    "%load_ext autoreload\n",
    "%autoreload 2\n",
    "%run ../setup.py\n",
    "\n",
    "import pandas as pd\n",
    "import yaml\n",
    "from src.data.matc import MATC\n",
    "from env import ProjectPaths\n",
    "from torch.utils.data import Dataset, DataLoader\n",
    "import pandas as pd\n",
    "from torch.utils.data import Dataset, DataLoader\n",
    "import torch\n",
    "import yaml\n",
    "from src.models.trainer import ModelTrainer\n",
    "from src.vectorizer.trainable import TrainableEmbedding\n",
    "from src.vectorizer.glove_embeddings import GloVeEmbedding\n",
    "from tqdm import tqdm\n",
    "import pyarrow.parquet as pq\n",
    "import numpy as np\n",
    "import random\n",
    "\n",
    "# random seed for reproducibility\n",
    "SEED = 42\n",
    "random.seed(SEED)\n",
    "np.random.seed(SEED)\n",
    "torch.manual_seed(SEED)\n",
    "torch.cuda.manual_seed(SEED)\n",
    "torch.cuda.manual_seed_all(SEED)\n",
    "torch.backends.cudnn.deterministic = True\n",
    "torch.backends.cudnn.benchmark = False\n",
    "\n",
    "\n",
    "def load_config(path):\n",
    "    with open(path, 'r') as f:\n",
    "        return yaml.safe_load(f)\n",
    "\n",
    "config = load_config('config/config.yaml')"
   ]
  },
  {
   "cell_type": "markdown",
   "id": "03247413",
   "metadata": {},
   "source": [
    "#### Download and load the dataset"
   ]
  },
  {
   "cell_type": "code",
   "execution_count": 5,
   "id": "08e46223",
   "metadata": {},
   "outputs": [
    {
     "name": "stdout",
     "output_type": "stream",
     "text": [
      "Medical Abstract for Text Classification dataset initialized with name: matc\n",
      "Length of train set: 9240\n",
      "Length of valid set: 2310\n"
     ]
    },
    {
     "data": {
      "text/html": [
       "<div>\n",
       "<style scoped>\n",
       "    .dataframe tbody tr th:only-of-type {\n",
       "        vertical-align: middle;\n",
       "    }\n",
       "\n",
       "    .dataframe tbody tr th {\n",
       "        vertical-align: top;\n",
       "    }\n",
       "\n",
       "    .dataframe thead th {\n",
       "        text-align: right;\n",
       "    }\n",
       "</style>\n",
       "<table border=\"1\" class=\"dataframe\">\n",
       "  <thead>\n",
       "    <tr style=\"text-align: right;\">\n",
       "      <th></th>\n",
       "      <th>condition_label</th>\n",
       "      <th>medical_abstract</th>\n",
       "    </tr>\n",
       "  </thead>\n",
       "  <tbody>\n",
       "    <tr>\n",
       "      <th>0</th>\n",
       "      <td>4</td>\n",
       "      <td>Time of onset of supraventricular tachyarrhyth...</td>\n",
       "    </tr>\n",
       "    <tr>\n",
       "      <th>1</th>\n",
       "      <td>5</td>\n",
       "      <td>Benign thyroid hyperplasia presenting as bilat...</td>\n",
       "    </tr>\n",
       "    <tr>\n",
       "      <th>2</th>\n",
       "      <td>5</td>\n",
       "      <td>Cecal diverticulitis presented as a cecal tumo...</td>\n",
       "    </tr>\n",
       "    <tr>\n",
       "      <th>3</th>\n",
       "      <td>4</td>\n",
       "      <td>Evaluation of the pharmacokinetics and electro...</td>\n",
       "    </tr>\n",
       "    <tr>\n",
       "      <th>4</th>\n",
       "      <td>5</td>\n",
       "      <td>Causes, diagnosis, and treatment of pharyngiti...</td>\n",
       "    </tr>\n",
       "  </tbody>\n",
       "</table>\n",
       "</div>"
      ],
      "text/plain": [
       "   condition_label                                   medical_abstract\n",
       "0                4  Time of onset of supraventricular tachyarrhyth...\n",
       "1                5  Benign thyroid hyperplasia presenting as bilat...\n",
       "2                5  Cecal diverticulitis presented as a cecal tumo...\n",
       "3                4  Evaluation of the pharmacokinetics and electro...\n",
       "4                5  Causes, diagnosis, and treatment of pharyngiti..."
      ]
     },
     "execution_count": 5,
     "metadata": {},
     "output_type": "execute_result"
    }
   ],
   "source": [
    "matc_dataset = MATC(name='matc')\n",
    "train_data, val_data, test_data = matc_dataset.load_dataset()\n",
    "print(f'Length of train set: {len(train_data)}')\n",
    "print(f'Length of valid set: {len(val_data)}')\n",
    "train_data.head()"
   ]
  },
  {
   "cell_type": "code",
   "execution_count": 6,
   "id": "d0406c7b",
   "metadata": {},
   "outputs": [
    {
     "data": {
      "application/vnd.jupyter.widget-view+json": {
       "model_id": "86f84123b6404eebb3296a8fa1031a5e",
       "version_major": 2,
       "version_minor": 0
      },
      "text/plain": [
       "VBox(children=(HBox(children=(IntProgress(value=0, description='0.00%', max=1155), Label(value='0 / 1155'))), …"
      ]
     },
     "metadata": {},
     "output_type": "display_data"
    },
    {
     "data": {
      "application/vnd.jupyter.widget-view+json": {
       "model_id": "cc699bdab0474f98b455101b45b9c6f6",
       "version_major": 2,
       "version_minor": 0
      },
      "text/plain": [
       "VBox(children=(HBox(children=(IntProgress(value=0, description='0.00%', max=289), Label(value='0 / 289'))), HB…"
      ]
     },
     "metadata": {},
     "output_type": "display_data"
    },
    {
     "data": {
      "text/html": [
       "<div>\n",
       "<style scoped>\n",
       "    .dataframe tbody tr th:only-of-type {\n",
       "        vertical-align: middle;\n",
       "    }\n",
       "\n",
       "    .dataframe tbody tr th {\n",
       "        vertical-align: top;\n",
       "    }\n",
       "\n",
       "    .dataframe thead th {\n",
       "        text-align: right;\n",
       "    }\n",
       "</style>\n",
       "<table border=\"1\" class=\"dataframe\">\n",
       "  <thead>\n",
       "    <tr style=\"text-align: right;\">\n",
       "      <th></th>\n",
       "      <th>condition_label</th>\n",
       "      <th>medical_abstract</th>\n",
       "    </tr>\n",
       "  </thead>\n",
       "  <tbody>\n",
       "    <tr>\n",
       "      <th>0</th>\n",
       "      <td>cardiovascular diseases</td>\n",
       "      <td>time onset supraventricular tachyarrhythmia re...</td>\n",
       "    </tr>\n",
       "    <tr>\n",
       "      <th>1</th>\n",
       "      <td>general pathological conditions</td>\n",
       "      <td>benign thyroid hyperplasia present bilateral v...</td>\n",
       "    </tr>\n",
       "    <tr>\n",
       "      <th>2</th>\n",
       "      <td>general pathological conditions</td>\n",
       "      <td>cecal diverticulitis present cecal tumor seven...</td>\n",
       "    </tr>\n",
       "    <tr>\n",
       "      <th>3</th>\n",
       "      <td>cardiovascular diseases</td>\n",
       "      <td>evaluation pharmacokinetic electrocardiographi...</td>\n",
       "    </tr>\n",
       "    <tr>\n",
       "      <th>4</th>\n",
       "      <td>general pathological conditions</td>\n",
       "      <td>cause diagnosis treatment pharyngitis pharyngi...</td>\n",
       "    </tr>\n",
       "  </tbody>\n",
       "</table>\n",
       "</div>"
      ],
      "text/plain": [
       "                   condition_label  \\\n",
       "0          cardiovascular diseases   \n",
       "1  general pathological conditions   \n",
       "2  general pathological conditions   \n",
       "3          cardiovascular diseases   \n",
       "4  general pathological conditions   \n",
       "\n",
       "                                    medical_abstract  \n",
       "0  time onset supraventricular tachyarrhythmia re...  \n",
       "1  benign thyroid hyperplasia present bilateral v...  \n",
       "2  cecal diverticulitis present cecal tumor seven...  \n",
       "3  evaluation pharmacokinetic electrocardiographi...  \n",
       "4  cause diagnosis treatment pharyngitis pharyngi...  "
      ]
     },
     "execution_count": 6,
     "metadata": {},
     "output_type": "execute_result"
    }
   ],
   "source": [
    "train_df, val_df = matc_dataset.preprocess(splits=['train', 'valid'])\n",
    "train_df.head()"
   ]
  },
  {
   "cell_type": "markdown",
   "id": "53501d05",
   "metadata": {},
   "source": [
    "### Preprocess and tokenize"
   ]
  },
  {
   "cell_type": "code",
   "execution_count": 54,
   "id": "4016ea66",
   "metadata": {},
   "outputs": [],
   "source": [
    "# Save to CSV\n",
    "# NOTE: commented out v sensitive code, files contain huge corpus of preprocessed data\n",
    "# DO NOT OVERWRITE THE FILES\n",
    "preprocessed_dir = ProjectPaths.DATASET_DIR.value / 'MATC' / 'preprocessed'\n",
    "preprocessed_dir.mkdir(parents=True, exist_ok=True)\n",
    "\n",
    "train_df.to_csv(preprocessed_dir / 'train.csv', index=False)\n",
    "val_df.to_csv(preprocessed_dir / 'valid.csv', index=False)"
   ]
  },
  {
   "cell_type": "code",
   "execution_count": 69,
   "id": "e8d9a5f8",
   "metadata": {},
   "outputs": [
    {
     "data": {
      "application/vnd.jupyter.widget-view+json": {
       "model_id": "15a22d259ce34d1591049708316d18b3",
       "version_major": 2,
       "version_minor": 0
      },
      "text/plain": [
       "VBox(children=(HBox(children=(IntProgress(value=0, description='0.00%', max=1155), Label(value='0 / 1155'))), …"
      ]
     },
     "metadata": {},
     "output_type": "display_data"
    },
    {
     "data": {
      "application/vnd.jupyter.widget-view+json": {
       "model_id": "798a9f866dc6489391683d16bd8e85bc",
       "version_major": 2,
       "version_minor": 0
      },
      "text/plain": [
       "VBox(children=(HBox(children=(IntProgress(value=0, description='0.00%', max=289), Label(value='0 / 289'))), HB…"
      ]
     },
     "metadata": {},
     "output_type": "display_data"
    },
    {
     "data": {
      "text/html": [
       "<div>\n",
       "<style scoped>\n",
       "    .dataframe tbody tr th:only-of-type {\n",
       "        vertical-align: middle;\n",
       "    }\n",
       "\n",
       "    .dataframe tbody tr th {\n",
       "        vertical-align: top;\n",
       "    }\n",
       "\n",
       "    .dataframe thead th {\n",
       "        text-align: right;\n",
       "    }\n",
       "</style>\n",
       "<table border=\"1\" class=\"dataframe\">\n",
       "  <thead>\n",
       "    <tr style=\"text-align: right;\">\n",
       "      <th></th>\n",
       "      <th>tokenized_medical_abstract</th>\n",
       "      <th>class_name</th>\n",
       "    </tr>\n",
       "  </thead>\n",
       "  <tbody>\n",
       "    <tr>\n",
       "      <th>0</th>\n",
       "      <td>[transtelephonic, defibrillation, study, objec...</td>\n",
       "      <td>cardiovascular diseases</td>\n",
       "    </tr>\n",
       "    <tr>\n",
       "      <th>1</th>\n",
       "      <td>[vertical, partial, laryngectomy, critical, an...</td>\n",
       "      <td>neoplasms</td>\n",
       "    </tr>\n",
       "    <tr>\n",
       "      <th>2</th>\n",
       "      <td>[multiple, granular, cell, tumor, associate, g...</td>\n",
       "      <td>neoplasms</td>\n",
       "    </tr>\n",
       "    <tr>\n",
       "      <th>3</th>\n",
       "      <td>[silent, ischemia, coronary, angioplasty, eval...</td>\n",
       "      <td>general pathological conditions</td>\n",
       "    </tr>\n",
       "    <tr>\n",
       "      <th>4</th>\n",
       "      <td>[aerobic, work, capacity, patient, chronic, fa...</td>\n",
       "      <td>digestive system diseases</td>\n",
       "    </tr>\n",
       "  </tbody>\n",
       "</table>\n",
       "</div>"
      ],
      "text/plain": [
       "                          tokenized_medical_abstract  \\\n",
       "0  [transtelephonic, defibrillation, study, objec...   \n",
       "1  [vertical, partial, laryngectomy, critical, an...   \n",
       "2  [multiple, granular, cell, tumor, associate, g...   \n",
       "3  [silent, ischemia, coronary, angioplasty, eval...   \n",
       "4  [aerobic, work, capacity, patient, chronic, fa...   \n",
       "\n",
       "                        class_name  \n",
       "0          cardiovascular diseases  \n",
       "1                        neoplasms  \n",
       "2                        neoplasms  \n",
       "3  general pathological conditions  \n",
       "4        digestive system diseases  "
      ]
     },
     "execution_count": 69,
     "metadata": {},
     "output_type": "execute_result"
    }
   ],
   "source": [
    "tokenized_set = matc_dataset.tokenize('nltk', splits=['train', 'valid'])\n",
    "nltk_dir = ProjectPaths.DATASET_DIR.value / 'MATC' / 'nltk_tokenized'\n",
    "nltk_dir.mkdir(parents=True, exist_ok=True)\n",
    "file_names = ['train.parquet', 'valid.parquet']\n",
    "for file_name, tokens in zip(file_names, tokenized_set):\n",
    "    file = nltk_dir / file_name\n",
    "    df = pd.DataFrame(tokens, columns=['tokenized_medical_abstract', 'class_name'])\n",
    "    df.to_parquet(file, index=False)\n",
    "    \n",
    "df.head()"
   ]
  },
  {
   "cell_type": "markdown",
   "id": "ea6992ec",
   "metadata": {},
   "source": [
    "### Model Training"
   ]
  },
  {
   "cell_type": "code",
   "execution_count": 70,
   "id": "410f1611",
   "metadata": {},
   "outputs": [
    {
     "name": "stderr",
     "output_type": "stream",
     "text": [
      "Docs: 100%|██████████| 9240/9240 [00:00<00:00, 411084.15it/s]"
     ]
    },
    {
     "name": "stdout",
     "output_type": "stream",
     "text": [
      "Number of documents in train corpus: 9240\n"
     ]
    },
    {
     "name": "stderr",
     "output_type": "stream",
     "text": [
      "\n"
     ]
    }
   ],
   "source": [
    "train_tokens = pd.read_parquet(\n",
    "    \"dataset/MATC/nltk_tokenized/train.parquet\", \n",
    "    engine=\"pyarrow\"\n",
    "    ).squeeze()\n",
    "\n",
    "# to make it as a list[list[str]]\n",
    "tokenized_train_corpus = [(doc.tolist(), class_name) for doc, class_name in tqdm(zip(train_tokens['tokenized_medical_abstract'], train_tokens['class_name']), 'Docs', len(train_tokens))] \n",
    "print(f'Number of documents in train corpus: {len(tokenized_train_corpus)}')\n",
    "# train_tokens = [doc for doc, _ in tokenized_train_corpus]\n",
    "# train_abbr = [abbv for _, abbv in tokenized_train_corpus]"
   ]
  },
  {
   "cell_type": "code",
   "execution_count": 98,
   "id": "c50b1ad1",
   "metadata": {},
   "outputs": [],
   "source": [
    "class LazyEmbeddingDataset(Dataset):\n",
    "    def __init__(\n",
    "            self, \n",
    "            file_path, \n",
    "            embedding_model, \n",
    "            class_to_idx, \n",
    "            return_tokens=True,\n",
    "            max_seq_len=None):\n",
    "        \"\"\"\n",
    "        Args:\n",
    "            file_path (str): Path to the Parquet file containing the tokenized text.\n",
    "            embedding_model: The custom embedding model (e.g., GloVeEmbedding).\n",
    "            labels (list): Labels corresponding to each document.\n",
    "            class_to_idx (dict): Mapping from class label to integer index.\n",
    "            max_seq_len (int, optional): Max sequence length for padding/truncating.\n",
    "        \"\"\"\n",
    "        self.file_path = file_path\n",
    "        table = pq.read_table(self.file_path)\n",
    "        self.tokenized_corpus = table['tokenized_medical_abstract']  # Assuming the corpus is tokenized in the file\n",
    "        self.embedding_model = embedding_model\n",
    "        self.labels = table['class_name']\n",
    "        self.class_to_idx = class_to_idx\n",
    "        self.max_seq_len = max_seq_len\n",
    "        self.return_tokens = return_tokens\n",
    "\n",
    "    def __len__(self):\n",
    "        return len(self.labels)\n",
    "\n",
    "    def __getitem__(self, idx):\n",
    "        # Get the tokens for the current document\n",
    "        tokens = self.tokenized_corpus[idx].as_py()  # Convert PyArrow StringScalar to string\n",
    "\n",
    "        if self.return_tokens:\n",
    "            embeddings = self.embedding_model.token_indices(tokens)\n",
    "        else:\n",
    "            # Compute the embeddings for this document on the fly using the embedding model\n",
    "            embeddings = self.embedding_model.embed(tokens)  # shape: (seq_len, embedding_dim)\n",
    "\n",
    "        # Convert to numpy arrays\n",
    "        embeddings = np.array(embeddings, dtype=np.float32)\n",
    "        seq_len = len(embeddings)\n",
    "        embedding_dim = self.embedding_model.embedding_dim\n",
    "\n",
    "\n",
    "        # Padding/Truncation based on max_seq_len\n",
    "        if self.max_seq_len is not None:\n",
    "            if seq_len < self.max_seq_len:\n",
    "                if self.return_tokens:\n",
    "                    pad = np.zeros((self.max_seq_len - seq_len), dtype=np.float32)\n",
    "                    embeddings = np.concatenate((embeddings, pad), axis=0)\n",
    "                else:\n",
    "                    pad = np.zeros((self.max_seq_len - seq_len, embedding_dim), dtype=np.float32)\n",
    "                    embeddings = np.vstack([embeddings, pad])\n",
    "            else:\n",
    "                embeddings = embeddings[:self.max_seq_len]\n",
    "\n",
    "        # Mask to indicate valid tokens\n",
    "        mask = np.ones(seq_len, dtype=np.float32)\n",
    "        if self.max_seq_len is not None and seq_len < self.max_seq_len:\n",
    "            mask = np.concatenate([mask, np.zeros(self.max_seq_len - seq_len, dtype=np.float32)])\n",
    "\n",
    "        # Convert label to index\n",
    "        label = self.labels[idx].as_py()\n",
    "        label_idx = self.class_to_idx[label]\n",
    "\n",
    "        return (torch.tensor(embeddings, dtype=torch.float32),\n",
    "                torch.tensor(mask, dtype=torch.float32),  # Return the mask\n",
    "                torch.tensor(label_idx, dtype=torch.int64))\n",
    "\n",
    "\n",
    "def create_lazy_dataloader(file_path, embedding_model, class_to_idx, batch_size, max_seq_len=None):\n",
    "    dataset = LazyEmbeddingDataset(file_path, embedding_model, class_to_idx, max_seq_len=max_seq_len, return_tokens=True)\n",
    "    return DataLoader(dataset, batch_size=batch_size, shuffle=True, num_workers=0)\n",
    "    # return dataset"
   ]
  },
  {
   "cell_type": "code",
   "execution_count": 99,
   "id": "c7753f1f",
   "metadata": {},
   "outputs": [],
   "source": [
    "glove_embedding_model = GloVeEmbedding(**config['embedding_models']['glove'])\n",
    "\n",
    "max_seq_len = config['datasets']['medal']['max_sequence_length']\n",
    "batch_size = config['training']['hyperparameters']['batch_size']\n",
    "\n",
    "trainloader = create_lazy_dataloader(\n",
    "    'dataset/MATC/nltk_tokenized/train.parquet', \n",
    "    glove_embedding_model, \n",
    "    matc_dataset.class_to_idx, \n",
    "    batch_size=batch_size,\n",
    "    max_seq_len=max_seq_len\n",
    "    )\n",
    "\n",
    "\n",
    "valloader = create_lazy_dataloader(\n",
    "    'dataset/MATC/nltk_tokenized/valid.parquet', \n",
    "    glove_embedding_model, \n",
    "    matc_dataset.class_to_idx, \n",
    "    batch_size=batch_size,\n",
    "    max_seq_len=max_seq_len\n",
    "    )"
   ]
  },
  {
   "cell_type": "code",
   "execution_count": 102,
   "id": "b0c18deb",
   "metadata": {},
   "outputs": [
    {
     "name": "stdout",
     "output_type": "stream",
     "text": [
      "------- lstm_and_self_attention --------\n",
      "{'lstm_units': 2, 'lstm_hidden_dim': 256, 'dropout': 0.3, 'num_classes': 5, 'embedding_dim': 100, 'create_embedding_layer': True, 'embedding_model': <src.vectorizer.glove_embeddings.GloVeEmbedding object at 0x46a138820>}\n"
     ]
    },
    {
     "name": "stderr",
     "output_type": "stream",
     "text": [
      "Training:   1%|          | 1/145 [00:01<03:04,  1.28s/it]"
     ]
    },
    {
     "name": "stdout",
     "output_type": "stream",
     "text": [
      "Loss: 1.6094340085983276\n"
     ]
    },
    {
     "name": "stderr",
     "output_type": "stream",
     "text": [
      "Training: 100%|██████████| 145/145 [02:23<00:00,  1.01it/s]\n"
     ]
    },
    {
     "name": "stdout",
     "output_type": "stream",
     "text": [
      "Epoch 1/10 - Loss: 1.5283, Accuracy: 33.52%\n",
      "Model saved at: trained_models/models/matc_glove_lstm_and_self_attention_epoch_1_model.pth\n"
     ]
    },
    {
     "name": "stderr",
     "output_type": "stream",
     "text": [
      "Training:   1%|          | 1/145 [00:01<02:57,  1.23s/it]"
     ]
    },
    {
     "name": "stdout",
     "output_type": "stream",
     "text": [
      "Loss: 1.4813073873519897\n"
     ]
    },
    {
     "name": "stderr",
     "output_type": "stream",
     "text": [
      "Training: 100%|██████████| 145/145 [02:29<00:00,  1.03s/it]\n"
     ]
    },
    {
     "name": "stdout",
     "output_type": "stream",
     "text": [
      "Epoch 2/10 - Loss: 1.5238, Accuracy: 33.53%\n",
      "Model saved at: trained_models/models/matc_glove_lstm_and_self_attention_epoch_2_model.pth\n"
     ]
    },
    {
     "name": "stderr",
     "output_type": "stream",
     "text": [
      "Training:   1%|          | 1/145 [00:01<02:27,  1.02s/it]"
     ]
    },
    {
     "name": "stdout",
     "output_type": "stream",
     "text": [
      "Loss: 1.4917865991592407\n"
     ]
    },
    {
     "name": "stderr",
     "output_type": "stream",
     "text": [
      "Training: 100%|██████████| 145/145 [02:36<00:00,  1.08s/it]\n"
     ]
    },
    {
     "name": "stdout",
     "output_type": "stream",
     "text": [
      "Epoch 3/10 - Loss: 1.5214, Accuracy: 33.43%\n",
      "Model saved at: trained_models/models/matc_glove_lstm_and_self_attention_epoch_3_model.pth\n"
     ]
    },
    {
     "name": "stderr",
     "output_type": "stream",
     "text": [
      "Training:   1%|          | 1/145 [00:01<02:35,  1.08s/it]"
     ]
    },
    {
     "name": "stdout",
     "output_type": "stream",
     "text": [
      "Loss: 1.6087102890014648\n"
     ]
    },
    {
     "name": "stderr",
     "output_type": "stream",
     "text": [
      "Training: 100%|██████████| 145/145 [02:40<00:00,  1.11s/it]\n"
     ]
    },
    {
     "name": "stdout",
     "output_type": "stream",
     "text": [
      "Epoch 4/10 - Loss: 1.5209, Accuracy: 33.54%\n",
      "Model saved at: trained_models/models/matc_glove_lstm_and_self_attention_epoch_4_model.pth\n"
     ]
    },
    {
     "name": "stderr",
     "output_type": "stream",
     "text": [
      "Training:   1%|          | 1/145 [00:01<02:24,  1.00s/it]"
     ]
    },
    {
     "name": "stdout",
     "output_type": "stream",
     "text": [
      "Loss: 1.395519495010376\n"
     ]
    },
    {
     "name": "stderr",
     "output_type": "stream",
     "text": [
      "Training: 100%|██████████| 145/145 [02:31<00:00,  1.05s/it]\n"
     ]
    },
    {
     "name": "stdout",
     "output_type": "stream",
     "text": [
      "Epoch 5/10 - Loss: 1.5198, Accuracy: 33.40%\n",
      "Model saved at: trained_models/models/matc_glove_lstm_and_self_attention_epoch_5_model.pth\n"
     ]
    },
    {
     "name": "stderr",
     "output_type": "stream",
     "text": [
      "Training:   1%|          | 1/145 [00:01<02:31,  1.05s/it]"
     ]
    },
    {
     "name": "stdout",
     "output_type": "stream",
     "text": [
      "Loss: 1.4941126108169556\n"
     ]
    },
    {
     "name": "stderr",
     "output_type": "stream",
     "text": [
      "Training: 100%|██████████| 145/145 [02:39<00:00,  1.10s/it]\n"
     ]
    },
    {
     "name": "stdout",
     "output_type": "stream",
     "text": [
      "Epoch 6/10 - Loss: 1.5194, Accuracy: 33.58%\n",
      "Model saved at: trained_models/models/matc_glove_lstm_and_self_attention_epoch_6_model.pth\n"
     ]
    },
    {
     "name": "stderr",
     "output_type": "stream",
     "text": [
      "Training:   1%|          | 1/145 [00:01<02:29,  1.04s/it]"
     ]
    },
    {
     "name": "stdout",
     "output_type": "stream",
     "text": [
      "Loss: 1.5364429950714111\n"
     ]
    },
    {
     "name": "stderr",
     "output_type": "stream",
     "text": [
      "Training: 100%|██████████| 145/145 [02:39<00:00,  1.10s/it]\n"
     ]
    },
    {
     "name": "stdout",
     "output_type": "stream",
     "text": [
      "Epoch 7/10 - Loss: 1.5195, Accuracy: 33.47%\n",
      "Model saved at: trained_models/models/matc_glove_lstm_and_self_attention_epoch_7_model.pth\n"
     ]
    },
    {
     "name": "stderr",
     "output_type": "stream",
     "text": [
      "Training:   1%|          | 1/145 [00:01<02:30,  1.05s/it]"
     ]
    },
    {
     "name": "stdout",
     "output_type": "stream",
     "text": [
      "Loss: 1.5141255855560303\n"
     ]
    },
    {
     "name": "stderr",
     "output_type": "stream",
     "text": [
      "Training: 100%|██████████| 145/145 [02:40<00:00,  1.11s/it]\n"
     ]
    },
    {
     "name": "stdout",
     "output_type": "stream",
     "text": [
      "Epoch 8/10 - Loss: 1.5193, Accuracy: 33.56%\n",
      "Model saved at: trained_models/models/matc_glove_lstm_and_self_attention_epoch_8_model.pth\n"
     ]
    },
    {
     "name": "stderr",
     "output_type": "stream",
     "text": [
      "Training:   1%|          | 1/145 [00:01<02:38,  1.10s/it]"
     ]
    },
    {
     "name": "stdout",
     "output_type": "stream",
     "text": [
      "Loss: 1.5865576267242432\n"
     ]
    },
    {
     "name": "stderr",
     "output_type": "stream",
     "text": [
      "Training: 100%|██████████| 145/145 [02:40<00:00,  1.11s/it]\n"
     ]
    },
    {
     "name": "stdout",
     "output_type": "stream",
     "text": [
      "Epoch 9/10 - Loss: 1.5205, Accuracy: 33.54%\n",
      "Model saved at: trained_models/models/matc_glove_lstm_and_self_attention_epoch_9_model.pth\n"
     ]
    },
    {
     "name": "stderr",
     "output_type": "stream",
     "text": [
      "Training:   1%|          | 1/145 [00:01<02:53,  1.20s/it]"
     ]
    },
    {
     "name": "stdout",
     "output_type": "stream",
     "text": [
      "Loss: 1.5320041179656982\n"
     ]
    },
    {
     "name": "stderr",
     "output_type": "stream",
     "text": [
      "Training: 100%|██████████| 145/145 [02:46<00:00,  1.15s/it]\n"
     ]
    },
    {
     "name": "stdout",
     "output_type": "stream",
     "text": [
      "Epoch 10/10 - Loss: 1.5197, Accuracy: 33.56%\n",
      "Model saved at: trained_models/models/matc_glove_lstm_and_self_attention_epoch_10_model.pth\n",
      "Validation Loss: 1.5290, Accuracy: 0.3294\n",
      "Model saved at: trained_models/models/matc_glove_lstm_and_self_attention_final_model.pth\n"
     ]
    }
   ],
   "source": [
    "# NOTE: Ensure to change the model name that will be saved before running\n",
    "# the training pipeline.\n",
    "\n",
    "model_trainer = ModelTrainer(config_file='matc_config.yaml')\n",
    "train_results = model_trainer.train(\n",
    "    trainloader,\n",
    "    valloader, \n",
    "    dataset='MATC',\n",
    "    embedding_dim=100,\n",
    "    embedding_model = glove_embedding_model\n",
    ")"
   ]
  },
  {
   "cell_type": "markdown",
   "id": "fc51e9d1",
   "metadata": {},
   "source": [
    "### Final Results After Training"
   ]
  },
  {
   "cell_type": "code",
   "execution_count": 116,
   "id": "166b599d",
   "metadata": {},
   "outputs": [
    {
     "data": {
      "image/png": "[encoded data removed]",
      "text/plain": [
       "<Figure size 1200x500 with 2 Axes>"
      ]
     },
     "metadata": {},
     "output_type": "display_data"
    }
   ],
   "source": [
    "model_trainer.plot_results(train_results)"
   ]
  }
 ],
 "metadata": {
  "kernelspec": {
   "display_name": "medal",
   "language": "python",
   "name": "python3"
  },
  "language_info": {
   "codemirror_mode": {
    "name": "ipython",
    "version": 3
   },
   "file_extension": ".py",
   "mimetype": "text/x-python",
   "name": "python",
   "nbconvert_exporter": "python",
   "pygments_lexer": "ipython3",
   "version": "3.10.16"
  }
 },
 "nbformat": 4,
 "nbformat_minor": 5
}
