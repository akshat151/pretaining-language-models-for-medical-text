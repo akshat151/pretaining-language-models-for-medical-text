{
 "cells": [
  {
   "cell_type": "markdown",
   "metadata": {},
   "source": [
    "# MeDAL Dataset (100 context) - Preprocessing and Model Training with GloVe + LSTM + Self-Attention\n",
    "\n",
    "\n",
    "This notebook presents a full pipeline for training a neural network model on the MeDAL dataset, focusing on medical abbreviation disambiguation. The key steps include:\n",
    "- Ensuring reproducibility and loading project configurations.\n",
    "- Loading and preprocessing the MeDAL dataset splits (train, valid) using a whitespace tokenizer (can be adjusted as per your choice).\n",
    "- Extracting context windows of 100 words—specifically, 50 words to the left and 50 to the right of each abbreviation instance.\n",
    "- Saving tokenized context windows as `.parquet` files for efficient access.\n",
    "- Building a custom vocabulary from training data (with a minimum frequency threshold) and initializing GloVe embeddings.\n",
    "- Implementing a `LazyEmbeddingDataset` for efficient data loading and embedding lookup.\n",
    "- Training a hybrid LSTM + Multi-Head Self-Attention model with residual connections, attention-based summarization, and contextual features.\n",
    "- Leveraging a reusable ModelTrainer class for training and evaluation, including training visualizations.\n",
    "\n",
    "\n",
    "This setup provides a solid foundation for experimenting with different embedding strategies and model architectures for medical abbreviation expansion tasks."
   ]
  },
  {
   "cell_type": "code",
   "execution_count": null,
   "metadata": {},
   "outputs": [
    {
     "name": "stdout",
     "output_type": "stream",
     "text": [
      "Environment set up: sys.path updated, working dir set to project root.\n"
     ]
    },
    {
     "name": "stderr",
     "output_type": "stream",
     "text": [
      "[nltk_data] Downloading package stopwords to\n",
      "[nltk_data]     /Users/prashanthjaganathan/nltk_data...\n",
      "[nltk_data]   Package stopwords is already up-to-date!\n",
      "[nltk_data] Downloading package stopwords to\n",
      "[nltk_data]     /Users/prashanthjaganathan/nltk_data...\n",
      "[nltk_data]   Package stopwords is already up-to-date!\n"
     ]
    },
    {
     "name": "stdout",
     "output_type": "stream",
     "text": [
      "INFO: Pandarallel will run on 8 workers.\n",
      "INFO: Pandarallel will use standard multiprocessing data transfer (pipe) to transfer data between the main process and workers.\n"
     ]
    }
   ],
   "source": [
    "%load_ext autoreload\n",
    "%autoreload 2\n",
    "%run ../setup.py\n",
    "\n",
    "from src.data.medal import MeDALSubset\n",
    "import pandas as pd\n",
    "from torch.utils.data import Dataset, DataLoader\n",
    "import torch\n",
    "import yaml\n",
    "from src.models.trainer import ModelTrainer\n",
    "from src.models.factory import ModelFactory\n",
    "from src.vectorizer.trainable import TrainableEmbedding\n",
    "from src.vectorizer.glove_embeddings import GloVeEmbedding\n",
    "from sklearn.decomposition import TruncatedSVD\n",
    "from tqdm import tqdm\n",
    "from env import ProjectPaths\n",
    "from src.utils import save_embeddings_to_file\n",
    "import pyarrow.parquet as pq\n",
    "import numpy as np\n",
    "import random\n",
    "import json\n",
    "import torch.nn as nn\n",
    "\n",
    "# random seed for reproducibility\n",
    "SEED = 42\n",
    "random.seed(SEED)\n",
    "np.random.seed(SEED)\n",
    "torch.manual_seed(SEED)\n",
    "torch.cuda.manual_seed(SEED)\n",
    "torch.cuda.manual_seed_all(SEED)\n",
    "torch.backends.cudnn.deterministic = True\n",
    "torch.backends.cudnn.benchmark = False"
   ]
  },
  {
   "cell_type": "markdown",
   "metadata": {},
   "source": [
    "#### Download and load the dataset"
   ]
  },
  {
   "cell_type": "code",
   "execution_count": 4,
   "metadata": {},
   "outputs": [
    {
     "name": "stdout",
     "output_type": "stream",
     "text": [
      "INFO: Pandarallel will run on 8 workers.\n",
      "INFO: Pandarallel will use standard multiprocessing data transfer (pipe) to transfer data between the main process and workers.\n",
      "MeDAL dataset initialized with name: MeDAL\n",
      "Dataset already exists at: /Users/prashanthjaganathan/Desktop/CS6120 - NLP/pretaining-language-models-for-medical-text/dataset/medal\n",
      "Dataset CSVs found in: dataset/medal/pretrain_subset\n"
     ]
    },
    {
     "name": "stderr",
     "output_type": "stream",
     "text": [
      "[nltk_data] Downloading package stopwords to\n",
      "[nltk_data]     /Users/prashanthjaganathan/nltk_data...\n",
      "[nltk_data]   Package stopwords is already up-to-date!\n"
     ]
    },
    {
     "name": "stdout",
     "output_type": "stream",
     "text": [
      "Total number of classes: 22555\n"
     ]
    }
   ],
   "source": [
    "medal_dataset = MeDALSubset('MeDAL')\n",
    "data, train_data, val_data, test_data = medal_dataset.load_dataset()\n",
    "class_to_idx = medal_dataset.class_to_idx\n",
    "del data, val_data, test_data"
   ]
  },
  {
   "cell_type": "markdown",
   "metadata": {},
   "source": [
    "#### Load configurations"
   ]
  },
  {
   "cell_type": "code",
   "execution_count": 5,
   "metadata": {},
   "outputs": [
    {
     "name": "stdout",
     "output_type": "stream",
     "text": [
      "The autoreload extension is already loaded. To reload it, use:\n",
      "  %reload_ext autoreload\n"
     ]
    }
   ],
   "source": [
    "%load_ext autoreload\n",
    "%autoreload 2\n",
    "\n",
    "def load_config(path):\n",
    "    with open(path, 'r') as f:\n",
    "        return yaml.safe_load(f)\n",
    "\n",
    "config = load_config('config/config.yaml')"
   ]
  },
  {
   "cell_type": "markdown",
   "metadata": {},
   "source": [
    "#### Tokenize train and valid sets using whitespace tokenizer and store in `.parquet` file"
   ]
  },
  {
   "cell_type": "code",
   "execution_count": 4,
   "metadata": {},
   "outputs": [
    {
     "data": {
      "application/vnd.jupyter.widget-view+json": {
       "model_id": "b82cf24bb2f546f18e9d52425e08b303",
       "version_major": 2,
       "version_minor": 0
      },
      "text/plain": [
       "VBox(children=(HBox(children=(IntProgress(value=0, description='0.00%', max=53572), Label(value='0 / 53572')))…"
      ]
     },
     "metadata": {},
     "output_type": "display_data"
    },
    {
     "name": "stderr",
     "output_type": "stream",
     "text": [
      "Documents: 100%|██████████| 3000000/3000000 [00:38<00:00, 77880.75it/s] \n"
     ]
    },
    {
     "name": "stdout",
     "output_type": "stream",
     "text": [
      "Parquet file saved successfully!\n"
     ]
    }
   ],
   "source": [
    "tokens_and_locations = medal_dataset.tokenize('whitespace', splits=['train'])\n",
    "contexts = medal_dataset.extract_context_from_tokens(\n",
    "    tokens_and_locations,\n",
    "    context_window=config['datasets']['medal']['context_window'])\n",
    "contexts_df = pd.DataFrame({\n",
    "    'ABSTRACT_ID': medal_dataset.train_data['ABSTRACT_ID'],\n",
    "    'CONTEXT': contexts})\n",
    "contexts_df.head()\n",
    "\n",
    "# Save as a Parquet file\n",
    "dir = ProjectPaths.DATASET_DIR.value / 'medal' / 'whitespace_tokenized_subset_100_ctx'\n",
    "dir.mkdir(parents=True, exist_ok=True)\n",
    "file_name = dir / \"train.parquet\"\n",
    "contexts_df.to_parquet(file_name)\n",
    "print('Parquet file saved successfully!')\n"
   ]
  },
  {
   "cell_type": "code",
   "execution_count": 5,
   "metadata": {},
   "outputs": [
    {
     "data": {
      "application/vnd.jupyter.widget-view+json": {
       "model_id": "66fa2f09ed2e4ef4bc6c59440a07d905",
       "version_major": 2,
       "version_minor": 0
      },
      "text/plain": [
       "VBox(children=(HBox(children=(IntProgress(value=0, description='0.00%', max=17858), Label(value='0 / 17858')))…"
      ]
     },
     "metadata": {},
     "output_type": "display_data"
    },
    {
     "name": "stderr",
     "output_type": "stream",
     "text": [
      "Documents: 100%|██████████| 999999/999999 [00:17<00:00, 56168.10it/s] \n"
     ]
    },
    {
     "name": "stdout",
     "output_type": "stream",
     "text": [
      "Parquet file saved successfully!\n"
     ]
    }
   ],
   "source": [
    "tokens_and_locations = medal_dataset.tokenize('whitespace', splits=['valid'])\n",
    "contexts = medal_dataset.extract_context_from_tokens(\n",
    "    tokens_and_locations,\n",
    "    context_window=config['datasets']['medal']['context_window'])\n",
    "contexts_df = pd.DataFrame({\n",
    "    'ABSTRACT_ID': medal_dataset.val_data['ABSTRACT_ID'],\n",
    "    'CONTEXT': contexts})\n",
    "contexts_df.head()\n",
    "\n",
    "# Save as a Parquet file\n",
    "dir = ProjectPaths.DATASET_DIR.value / 'medal' / 'whitespace_tokenized_subset_100_ctx'\n",
    "dir.mkdir(parents=True, exist_ok=True)\n",
    "file_name = dir / \"valid.parquet\"\n",
    "contexts_df.to_parquet(file_name)\n",
    "print('Parquet file saved successfully!')\n"
   ]
  },
  {
   "cell_type": "code",
   "execution_count": null,
   "metadata": {},
   "outputs": [],
   "source": [
    "train_tokens = pd.read_parquet(\"dataset/medal/whitespace_tokenized_subset_100_ctx/train.parquet\", engine=\"pyarrow\").squeeze()\n",
    "\n",
    "# to make it as a list[list[str]]\n",
    "tokenized_train_corpus = [context.tolist() for context in tqdm(train_tokens['CONTEXT'], 'Docs', len(train_tokens['CONTEXT']))] \n",
    "print(f'Number of documents in train corpus: {len(tokenized_train_corpus)}')"
   ]
  },
  {
   "cell_type": "markdown",
   "metadata": {},
   "source": [
    "#### Create vocabulary from the train set"
   ]
  },
  {
   "cell_type": "code",
   "execution_count": null,
   "metadata": {},
   "outputs": [],
   "source": [
    "from collections import Counter\n",
    "\n",
    "min_word_freq = 2\n",
    "counter = Counter()\n",
    "# tokenized_train_corpus is a list of tuples: (list_of_tokens, abbreviation)\n",
    "for tokens in tokenized_train_corpus:\n",
    "    counter.update(tokens)\n",
    "\n",
    "external_vocab = {\"<PAD>\": 0, \"<UNK>\": 1}\n",
    "for token, freq in counter.items():\n",
    "    if freq >= min_word_freq:\n",
    "        external_vocab[token] = len(external_vocab)\n",
    "\n",
    "print(f\"External vocab size: {len(external_vocab)}\")\n",
    "\n"
   ]
  },
  {
   "cell_type": "code",
   "execution_count": 6,
   "metadata": {},
   "outputs": [],
   "source": [
    "config_glove = config['embedding_models']['glove']\n",
    "config_glove['external_vocab'] = external_vocab  # Pass the external vocabulary"
   ]
  },
  {
   "cell_type": "markdown",
   "metadata": {},
   "source": [
    "### Model Training\n",
    "\n",
    "First, let's create the dataloader with embeddings as features and labels."
   ]
  },
  {
   "cell_type": "code",
   "execution_count": 7,
   "metadata": {},
   "outputs": [],
   "source": [
    "class LazyEmbeddingDataset(Dataset):\n",
    "    def __init__(\n",
    "            self, \n",
    "            file_path, \n",
    "            embedding_model, \n",
    "            labels, \n",
    "            class_to_idx, \n",
    "            return_tokens=True,\n",
    "            max_seq_len=None):\n",
    "        \"\"\"\n",
    "        Args:\n",
    "            file_path (str): Path to the Parquet file containing the tokenized text.\n",
    "            embedding_model: The custom embedding model (e.g., GloVeEmbedding).\n",
    "            labels (list): Labels corresponding to each document.\n",
    "            class_to_idx (dict): Mapping from class label to integer index.\n",
    "            max_seq_len (int, optional): Max sequence length for padding/truncating.\n",
    "        \"\"\"\n",
    "        self.file_path = file_path\n",
    "        table = pq.read_table(self.file_path)\n",
    "        self.tokenized_corpus = table['CONTEXT']  # Assuming the corpus is tokenized in the file\n",
    "        self.embedding_model = embedding_model\n",
    "        self.labels = labels\n",
    "        self.class_to_idx = class_to_idx\n",
    "        self.max_seq_len = max_seq_len\n",
    "        self.label_names = set(self.labels)\n",
    "        self.return_tokens = return_tokens\n",
    "\n",
    "    def __len__(self):\n",
    "        return len(self.labels)\n",
    "\n",
    "    def __getitem__(self, idx):\n",
    "        # Get the tokens for the current document\n",
    "        tokens = self.tokenized_corpus[idx].as_py()  # Convert PyArrow StringScalar to string\n",
    "\n",
    "        if self.return_tokens:\n",
    "            embeddings = self.embedding_model.token_indices(tokens)\n",
    "        else:\n",
    "            # Compute the embeddings for this document on the fly using the embedding model\n",
    "            embeddings = self.embedding_model.embed(tokens)  # shape: (seq_len, embedding_dim)\n",
    "\n",
    "        # Convert to numpy arrays\n",
    "        # embeddings = np.array(embeddings, dtype=np.float32)\n",
    "        seq_len = len(embeddings)\n",
    "        embedding_dim = self.embedding_model.embedding_dim\n",
    "        embeddings = embeddings + [0] * (self.max_seq_len - seq_len) if seq_len < self.max_seq_len else embeddings[:self.max_seq_len]\n",
    "\n",
    "        # Padding/Truncation based on max_seq_len\n",
    "        # if self.max_seq_len is not None:\n",
    "        #     if seq_len < self.max_seq_len:\n",
    "        #         if self.return_tokens:\n",
    "        #             pad = np.zeros((self.max_seq_len - seq_len), dtype=np.float32)\n",
    "        #             embeddings = np.concatenate((embeddings, pad), axis=0)\n",
    "        #         else:\n",
    "        #             pad = np.zeros((self.max_seq_len - seq_len, embedding_dim), dtype=np.float32)\n",
    "        #             embeddings = np.vstack([embeddings, pad])\n",
    "        #     else:\n",
    "        #         embeddings = embeddings[:self.max_seq_len]\n",
    "\n",
    "        # Mask to indicate valid tokens\n",
    "        mask = np.ones(seq_len, dtype=np.float32)\n",
    "        if self.max_seq_len is not None and seq_len < self.max_seq_len:\n",
    "            mask = np.concatenate([mask, np.zeros(self.max_seq_len - seq_len, dtype=np.float32)])\n",
    "\n",
    "        # Convert label to index\n",
    "        label = self.labels[idx]\n",
    "        label_idx = self.class_to_idx[label]\n",
    "\n",
    "        return (torch.tensor(embeddings, dtype=torch.long),\n",
    "                torch.tensor(mask, dtype=torch.long),  # Return the mask\n",
    "                torch.tensor(label_idx, dtype=torch.long))\n",
    "\n",
    "\n",
    "def create_lazy_dataloader(file_path, embedding_model, labels, class_to_idx, batch_size, max_seq_len=None, shuffle=False):\n",
    "    dataset = LazyEmbeddingDataset(file_path, embedding_model, labels, class_to_idx, max_seq_len=max_seq_len, return_tokens=True)\n",
    "    \n",
    "    return DataLoader(\n",
    "        dataset, \n",
    "        batch_size=batch_size, \n",
    "        shuffle=shuffle, \n",
    "        num_workers=16, \n",
    "        pin_memory=True\n",
    "        )\n",
    "    # return dataset"
   ]
  },
  {
   "cell_type": "code",
   "execution_count": 8,
   "metadata": {},
   "outputs": [
    {
     "name": "stderr",
     "output_type": "stream",
     "text": [
      "/home/jaganathan.p/.conda/envs/medal/lib/python3.10/site-packages/torch/utils/data/dataloader.py:624: UserWarning: This DataLoader will create 16 worker processes in total. Our suggested max number of worker in current system is 6, which is smaller than what this DataLoader is going to create. Please be aware that excessive worker creation might get DataLoader running slow or even freeze, lower the worker number to avoid potential slowness/freeze if necessary.\n",
      "  warnings.warn(\n"
     ]
    }
   ],
   "source": [
    "glove_embedding_model = GloVeEmbedding(**config['embedding_models']['glove'])\n",
    "\n",
    "max_seq_len = config['datasets']['medal']['max_sequence_length']\n",
    "batch_size = config['training']['hyperparameters']['batch_size']\n",
    "\n",
    "trainloader = create_lazy_dataloader(\n",
    "    'dataset/medal/whitespace_tokenized_subset_100_ctx/train.parquet', \n",
    "    glove_embedding_model, \n",
    "    medal_dataset.train_data['LABEL'],\n",
    "    class_to_idx, \n",
    "    batch_size=batch_size,\n",
    "    max_seq_len=max_seq_len,\n",
    "    shuffle=True\n",
    ")\n",
    "\n",
    "\n",
    "valloader = create_lazy_dataloader(\n",
    "    'dataset/medal/whitespace_tokenized_subset_100_ctx/valid.parquet', \n",
    "    glove_embedding_model, \n",
    "    medal_dataset.val_data['LABEL'],\n",
    "    class_to_idx, \n",
    "    batch_size=batch_size,\n",
    "    max_seq_len=max_seq_len,\n",
    "    shuffle = False\n",
    "    )"
   ]
  },
  {
   "cell_type": "markdown",
   "metadata": {},
   "source": [
    "#### Execute training pipeline"
   ]
  },
  {
   "cell_type": "code",
   "execution_count": 9,
   "metadata": {},
   "outputs": [
    {
     "name": "stdout",
     "output_type": "stream",
     "text": [
      "------- lstm_and_self_attention --------\n",
      "{'lstm_units': 2, 'lstm_hidden_dim': 64, 'num_attention_heads': 8, 'dropout': 0.3, 'max_sequence_length': 100, 'num_classes': 22555, 'embedding_dim': 100, 'create_embedding_layer': True, 'embedding_model': <src.vectorizer.glove_embeddings.GloVeEmbedding object at 0x2b094c824760>}\n"
     ]
    },
    {
     "name": "stderr",
     "output_type": "stream",
     "text": [
      "/home/jaganathan.p/pretaining-language-models-for-medical-text/src/models/model_architectures/lstm_self_attention.py:29: UserWarning: To copy construct from a tensor, it is recommended to use sourceTensor.clone().detach() or sourceTensor.clone().detach().requires_grad_(True), rather than torch.tensor(sourceTensor).\n",
      "  self.embedding.weight.data.copy_(torch.tensor(embedding_model.embedding_matrix))\n",
      "Training:  21%|██▏       | 10011/46875 [01:37<06:21, 96.62it/s]"
     ]
    },
    {
     "name": "stdout",
     "output_type": "stream",
     "text": [
      "[Epoch 1] Batch 10000/46875 - Avg Loss (last 10000): 8.8753\n"
     ]
    },
    {
     "name": "stderr",
     "output_type": "stream",
     "text": [
      "Training:  43%|████▎     | 20018/46875 [03:11<04:14, 105.41it/s]"
     ]
    },
    {
     "name": "stdout",
     "output_type": "stream",
     "text": [
      "[Epoch 1] Batch 20000/46875 - Avg Loss (last 10000): 6.6146\n"
     ]
    },
    {
     "name": "stderr",
     "output_type": "stream",
     "text": [
      "Training:  64%|██████▍   | 30026/46875 [04:40<01:57, 142.81it/s]"
     ]
    },
    {
     "name": "stdout",
     "output_type": "stream",
     "text": [
      "[Epoch 1] Batch 30000/46875 - Avg Loss (last 10000): 5.1677\n"
     ]
    },
    {
     "name": "stderr",
     "output_type": "stream",
     "text": [
      "Training:  85%|████████▌ | 40011/46875 [06:16<01:09, 98.36it/s] "
     ]
    },
    {
     "name": "stdout",
     "output_type": "stream",
     "text": [
      "[Epoch 1] Batch 40000/46875 - Avg Loss (last 10000): 4.9127\n"
     ]
    },
    {
     "name": "stderr",
     "output_type": "stream",
     "text": [
      "Training: 100%|██████████| 46875/46875 [07:19<00:00, 106.67it/s]\n",
      "validating:   0%|          | 0/15625 [00:00<?, ?it/s]/home/jaganathan.p/.conda/envs/medal/lib/python3.10/site-packages/torch/utils/data/dataloader.py:624: UserWarning: This DataLoader will create 16 worker processes in total. Our suggested max number of worker in current system is 6, which is smaller than what this DataLoader is going to create. Please be aware that excessive worker creation might get DataLoader running slow or even freeze, lower the worker number to avoid potential slowness/freeze if necessary.\n",
      "  warnings.warn(\n",
      "validating: 100%|██████████| 15625/15625 [01:09<00:00, 225.55it/s]\n"
     ]
    },
    {
     "name": "stdout",
     "output_type": "stream",
     "text": [
      "Validation Loss: 4.3600, Accuracy: 0.4771, Precision: 0.5629, Recall: 0.4771\n",
      "Epoch 1/10 - Train Loss: 0.0962, Train Acc: 0.2734, Prec: 0.3057, Recall: 0.2734, Val Acc: 0.4771, Val Prec: 0.5629, Val Recall: 0.4771\n"
     ]
    },
    {
     "name": "stderr",
     "output_type": "stream",
     "text": [
      "/home/jaganathan.p/.conda/envs/medal/lib/python3.10/site-packages/torch/utils/data/dataloader.py:624: UserWarning: This DataLoader will create 16 worker processes in total. Our suggested max number of worker in current system is 6, which is smaller than what this DataLoader is going to create. Please be aware that excessive worker creation might get DataLoader running slow or even freeze, lower the worker number to avoid potential slowness/freeze if necessary.\n",
      "  warnings.warn(\n",
      "Training:  21%|██▏       | 10016/46875 [01:32<06:10, 99.44it/s]"
     ]
    },
    {
     "name": "stdout",
     "output_type": "stream",
     "text": [
      "[Epoch 2] Batch 10000/46875 - Avg Loss (last 10000): 4.6722\n"
     ]
    },
    {
     "name": "stderr",
     "output_type": "stream",
     "text": [
      "Training:  43%|████▎     | 20018/46875 [03:02<04:57, 90.19it/s] "
     ]
    },
    {
     "name": "stdout",
     "output_type": "stream",
     "text": [
      "[Epoch 2] Batch 20000/46875 - Avg Loss (last 10000): 4.6224\n"
     ]
    },
    {
     "name": "stderr",
     "output_type": "stream",
     "text": [
      "Training:  64%|██████▍   | 30021/46875 [04:29<02:23, 117.54it/s]"
     ]
    },
    {
     "name": "stdout",
     "output_type": "stream",
     "text": [
      "[Epoch 2] Batch 30000/46875 - Avg Loss (last 10000): 4.5835\n"
     ]
    },
    {
     "name": "stderr",
     "output_type": "stream",
     "text": [
      "Training:  85%|████████▌ | 40008/46875 [05:57<01:04, 107.13it/s]"
     ]
    },
    {
     "name": "stdout",
     "output_type": "stream",
     "text": [
      "[Epoch 2] Batch 40000/46875 - Avg Loss (last 10000): 4.5422\n"
     ]
    },
    {
     "name": "stderr",
     "output_type": "stream",
     "text": [
      "Training: 100%|██████████| 46875/46875 [07:00<00:00, 111.35it/s]\n",
      "validating:   0%|          | 0/15625 [00:00<?, ?it/s]/home/jaganathan.p/.conda/envs/medal/lib/python3.10/site-packages/torch/utils/data/dataloader.py:624: UserWarning: This DataLoader will create 16 worker processes in total. Our suggested max number of worker in current system is 6, which is smaller than what this DataLoader is going to create. Please be aware that excessive worker creation might get DataLoader running slow or even freeze, lower the worker number to avoid potential slowness/freeze if necessary.\n",
      "  warnings.warn(\n",
      "validating: 100%|██████████| 15625/15625 [01:08<00:00, 227.42it/s]\n"
     ]
    },
    {
     "name": "stdout",
     "output_type": "stream",
     "text": [
      "Validation Loss: 4.1329, Accuracy: 0.5181, Precision: 0.5896, Recall: 0.5181\n",
      "Epoch 2/10 - Train Loss: 0.0718, Train Acc: 0.4568, Prec: 0.4714, Recall: 0.4568, Val Acc: 0.5181, Val Prec: 0.5896, Val Recall: 0.5181\n"
     ]
    },
    {
     "name": "stderr",
     "output_type": "stream",
     "text": [
      "/home/jaganathan.p/.conda/envs/medal/lib/python3.10/site-packages/torch/utils/data/dataloader.py:624: UserWarning: This DataLoader will create 16 worker processes in total. Our suggested max number of worker in current system is 6, which is smaller than what this DataLoader is going to create. Please be aware that excessive worker creation might get DataLoader running slow or even freeze, lower the worker number to avoid potential slowness/freeze if necessary.\n",
      "  warnings.warn(\n",
      "Training:  21%|██▏       | 10017/46875 [01:31<05:24, 113.52it/s]"
     ]
    },
    {
     "name": "stdout",
     "output_type": "stream",
     "text": [
      "[Epoch 3] Batch 10000/46875 - Avg Loss (last 10000): 4.4186\n"
     ]
    },
    {
     "name": "stderr",
     "output_type": "stream",
     "text": [
      "Training:  43%|████▎     | 20030/46875 [02:57<02:40, 167.03it/s]"
     ]
    },
    {
     "name": "stdout",
     "output_type": "stream",
     "text": [
      "[Epoch 3] Batch 20000/46875 - Avg Loss (last 10000): 4.4270\n"
     ]
    },
    {
     "name": "stderr",
     "output_type": "stream",
     "text": [
      "Training:  64%|██████▍   | 30021/46875 [04:19<02:24, 116.33it/s]"
     ]
    },
    {
     "name": "stdout",
     "output_type": "stream",
     "text": [
      "[Epoch 3] Batch 30000/46875 - Avg Loss (last 10000): 4.4193\n"
     ]
    },
    {
     "name": "stderr",
     "output_type": "stream",
     "text": [
      "Training:  85%|████████▌ | 40009/46875 [05:44<01:04, 106.90it/s]"
     ]
    },
    {
     "name": "stdout",
     "output_type": "stream",
     "text": [
      "[Epoch 3] Batch 40000/46875 - Avg Loss (last 10000): 4.3996\n"
     ]
    },
    {
     "name": "stderr",
     "output_type": "stream",
     "text": [
      "Training: 100%|██████████| 46875/46875 [06:45<00:00, 115.46it/s]\n",
      "validating:   0%|          | 0/15625 [00:00<?, ?it/s]/home/jaganathan.p/.conda/envs/medal/lib/python3.10/site-packages/torch/utils/data/dataloader.py:624: UserWarning: This DataLoader will create 16 worker processes in total. Our suggested max number of worker in current system is 6, which is smaller than what this DataLoader is going to create. Please be aware that excessive worker creation might get DataLoader running slow or even freeze, lower the worker number to avoid potential slowness/freeze if necessary.\n",
      "  warnings.warn(\n",
      "validating: 100%|██████████| 15625/15625 [01:06<00:00, 236.41it/s]\n"
     ]
    },
    {
     "name": "stdout",
     "output_type": "stream",
     "text": [
      "Validation Loss: 4.0310, Accuracy: 0.5359, Precision: 0.6000, Recall: 0.5359\n",
      "Epoch 3/10 - Train Loss: 0.0689, Train Acc: 0.4854, Prec: 0.5012, Recall: 0.4854, Val Acc: 0.5359, Val Prec: 0.6000, Val Recall: 0.5359\n"
     ]
    },
    {
     "name": "stderr",
     "output_type": "stream",
     "text": [
      "/home/jaganathan.p/.conda/envs/medal/lib/python3.10/site-packages/torch/utils/data/dataloader.py:624: UserWarning: This DataLoader will create 16 worker processes in total. Our suggested max number of worker in current system is 6, which is smaller than what this DataLoader is going to create. Please be aware that excessive worker creation might get DataLoader running slow or even freeze, lower the worker number to avoid potential slowness/freeze if necessary.\n",
      "  warnings.warn(\n",
      "Training:  21%|██▏       | 10021/46875 [01:35<05:13, 117.40it/s]"
     ]
    },
    {
     "name": "stdout",
     "output_type": "stream",
     "text": [
      "[Epoch 4] Batch 10000/46875 - Avg Loss (last 10000): 4.2996\n"
     ]
    },
    {
     "name": "stderr",
     "output_type": "stream",
     "text": [
      "Training:  43%|████▎     | 20010/46875 [03:11<05:20, 83.84it/s] "
     ]
    },
    {
     "name": "stdout",
     "output_type": "stream",
     "text": [
      "[Epoch 4] Batch 20000/46875 - Avg Loss (last 10000): 4.3174\n"
     ]
    },
    {
     "name": "stderr",
     "output_type": "stream",
     "text": [
      "Training:  64%|██████▍   | 30010/46875 [04:46<02:50, 98.78it/s] "
     ]
    },
    {
     "name": "stdout",
     "output_type": "stream",
     "text": [
      "[Epoch 4] Batch 30000/46875 - Avg Loss (last 10000): 4.3147\n"
     ]
    },
    {
     "name": "stderr",
     "output_type": "stream",
     "text": [
      "Training:  85%|████████▌ | 40014/46875 [06:23<01:13, 93.94it/s] "
     ]
    },
    {
     "name": "stdout",
     "output_type": "stream",
     "text": [
      "[Epoch 4] Batch 40000/46875 - Avg Loss (last 10000): 4.3092\n"
     ]
    },
    {
     "name": "stderr",
     "output_type": "stream",
     "text": [
      "Training: 100%|██████████| 46875/46875 [07:28<00:00, 104.48it/s]\n",
      "validating:   0%|          | 0/15625 [00:00<?, ?it/s]/home/jaganathan.p/.conda/envs/medal/lib/python3.10/site-packages/torch/utils/data/dataloader.py:624: UserWarning: This DataLoader will create 16 worker processes in total. Our suggested max number of worker in current system is 6, which is smaller than what this DataLoader is going to create. Please be aware that excessive worker creation might get DataLoader running slow or even freeze, lower the worker number to avoid potential slowness/freeze if necessary.\n",
      "  warnings.warn(\n",
      "validating: 100%|██████████| 15625/15625 [01:09<00:00, 224.12it/s]\n"
     ]
    },
    {
     "name": "stdout",
     "output_type": "stream",
     "text": [
      "Validation Loss: 3.9712, Accuracy: 0.5476, Precision: 0.6042, Recall: 0.5476\n",
      "Epoch 4/10 - Train Loss: 0.0673, Train Acc: 0.5025, Prec: 0.5184, Recall: 0.5025, Val Acc: 0.5476, Val Prec: 0.6042, Val Recall: 0.5476\n"
     ]
    },
    {
     "name": "stderr",
     "output_type": "stream",
     "text": [
      "/home/jaganathan.p/.conda/envs/medal/lib/python3.10/site-packages/torch/utils/data/dataloader.py:624: UserWarning: This DataLoader will create 16 worker processes in total. Our suggested max number of worker in current system is 6, which is smaller than what this DataLoader is going to create. Please be aware that excessive worker creation might get DataLoader running slow or even freeze, lower the worker number to avoid potential slowness/freeze if necessary.\n",
      "  warnings.warn(\n",
      "Training:  21%|██▏       | 10012/46875 [02:04<06:55, 88.77it/s]"
     ]
    },
    {
     "name": "stdout",
     "output_type": "stream",
     "text": [
      "[Epoch 5] Batch 10000/46875 - Avg Loss (last 10000): 4.1622\n"
     ]
    },
    {
     "name": "stderr",
     "output_type": "stream",
     "text": [
      "Training:  43%|████▎     | 20007/46875 [04:07<05:14, 85.41it/s]"
     ]
    },
    {
     "name": "stdout",
     "output_type": "stream",
     "text": [
      "[Epoch 5] Batch 20000/46875 - Avg Loss (last 10000): 4.1365\n"
     ]
    },
    {
     "name": "stderr",
     "output_type": "stream",
     "text": [
      "Training:  64%|██████▍   | 30015/46875 [06:10<03:18, 85.00it/s]"
     ]
    },
    {
     "name": "stdout",
     "output_type": "stream",
     "text": [
      "[Epoch 5] Batch 30000/46875 - Avg Loss (last 10000): 4.1021\n"
     ]
    },
    {
     "name": "stderr",
     "output_type": "stream",
     "text": [
      "Training:  85%|████████▌ | 40009/46875 [08:13<01:29, 76.95it/s]"
     ]
    },
    {
     "name": "stdout",
     "output_type": "stream",
     "text": [
      "[Epoch 5] Batch 40000/46875 - Avg Loss (last 10000): 4.0645\n"
     ]
    },
    {
     "name": "stderr",
     "output_type": "stream",
     "text": [
      "Training: 100%|██████████| 46875/46875 [09:40<00:00, 80.77it/s]\n",
      "validating:   0%|          | 0/15625 [00:00<?, ?it/s]/home/jaganathan.p/.conda/envs/medal/lib/python3.10/site-packages/torch/utils/data/dataloader.py:624: UserWarning: This DataLoader will create 16 worker processes in total. Our suggested max number of worker in current system is 6, which is smaller than what this DataLoader is going to create. Please be aware that excessive worker creation might get DataLoader running slow or even freeze, lower the worker number to avoid potential slowness/freeze if necessary.\n",
      "  warnings.warn(\n",
      "validating: 100%|██████████| 15625/15625 [01:12<00:00, 216.89it/s]\n"
     ]
    },
    {
     "name": "stdout",
     "output_type": "stream",
     "text": [
      "Validation Loss: 3.7461, Accuracy: 0.5839, Precision: 0.6303, Recall: 0.5839\n",
      "Epoch 5/10 - Train Loss: 0.0642, Train Acc: 0.5350, Prec: 0.5494, Recall: 0.5350, Val Acc: 0.5839, Val Prec: 0.6303, Val Recall: 0.5839\n"
     ]
    },
    {
     "name": "stderr",
     "output_type": "stream",
     "text": [
      "/home/jaganathan.p/.conda/envs/medal/lib/python3.10/site-packages/torch/utils/data/dataloader.py:624: UserWarning: This DataLoader will create 16 worker processes in total. Our suggested max number of worker in current system is 6, which is smaller than what this DataLoader is going to create. Please be aware that excessive worker creation might get DataLoader running slow or even freeze, lower the worker number to avoid potential slowness/freeze if necessary.\n",
      "  warnings.warn(\n",
      "Training:  21%|██▏       | 10009/46875 [02:05<07:58, 77.12it/s]"
     ]
    },
    {
     "name": "stdout",
     "output_type": "stream",
     "text": [
      "[Epoch 6] Batch 10000/46875 - Avg Loss (last 10000): 3.9119\n"
     ]
    },
    {
     "name": "stderr",
     "output_type": "stream",
     "text": [
      "Training:  43%|████▎     | 20008/46875 [04:09<05:20, 83.91it/s]"
     ]
    },
    {
     "name": "stdout",
     "output_type": "stream",
     "text": [
      "[Epoch 6] Batch 20000/46875 - Avg Loss (last 10000): 3.9339\n"
     ]
    },
    {
     "name": "stderr",
     "output_type": "stream",
     "text": [
      "Training:  64%|██████▍   | 30013/46875 [06:12<03:35, 78.34it/s]"
     ]
    },
    {
     "name": "stdout",
     "output_type": "stream",
     "text": [
      "[Epoch 6] Batch 30000/46875 - Avg Loss (last 10000): 3.9319\n"
     ]
    },
    {
     "name": "stderr",
     "output_type": "stream",
     "text": [
      "Training:  85%|████████▌ | 40013/46875 [08:15<01:12, 94.30it/s] "
     ]
    },
    {
     "name": "stdout",
     "output_type": "stream",
     "text": [
      "[Epoch 6] Batch 40000/46875 - Avg Loss (last 10000): 3.9237\n"
     ]
    },
    {
     "name": "stderr",
     "output_type": "stream",
     "text": [
      "Training: 100%|██████████| 46875/46875 [09:41<00:00, 80.58it/s]\n",
      "validating:   0%|          | 0/15625 [00:00<?, ?it/s]/home/jaganathan.p/.conda/envs/medal/lib/python3.10/site-packages/torch/utils/data/dataloader.py:624: UserWarning: This DataLoader will create 16 worker processes in total. Our suggested max number of worker in current system is 6, which is smaller than what this DataLoader is going to create. Please be aware that excessive worker creation might get DataLoader running slow or even freeze, lower the worker number to avoid potential slowness/freeze if necessary.\n",
      "  warnings.warn(\n",
      "validating: 100%|██████████| 15625/15625 [01:07<00:00, 230.52it/s]\n"
     ]
    },
    {
     "name": "stdout",
     "output_type": "stream",
     "text": [
      "Validation Loss: 3.6670, Accuracy: 0.5969, Precision: 0.6371, Recall: 0.5969\n",
      "Epoch 6/10 - Train Loss: 0.0613, Train Acc: 0.5644, Prec: 0.5768, Recall: 0.5644, Val Acc: 0.5969, Val Prec: 0.6371, Val Recall: 0.5969\n"
     ]
    },
    {
     "name": "stderr",
     "output_type": "stream",
     "text": [
      "/home/jaganathan.p/.conda/envs/medal/lib/python3.10/site-packages/torch/utils/data/dataloader.py:624: UserWarning: This DataLoader will create 16 worker processes in total. Our suggested max number of worker in current system is 6, which is smaller than what this DataLoader is going to create. Please be aware that excessive worker creation might get DataLoader running slow or even freeze, lower the worker number to avoid potential slowness/freeze if necessary.\n",
      "  warnings.warn(\n",
      "Training:  21%|██▏       | 10009/46875 [02:05<07:47, 78.89it/s]"
     ]
    },
    {
     "name": "stdout",
     "output_type": "stream",
     "text": [
      "[Epoch 7] Batch 10000/46875 - Avg Loss (last 10000): 3.7950\n"
     ]
    },
    {
     "name": "stderr",
     "output_type": "stream",
     "text": [
      "Training:  43%|████▎     | 20009/46875 [04:08<05:40, 78.88it/s]"
     ]
    },
    {
     "name": "stdout",
     "output_type": "stream",
     "text": [
      "[Epoch 7] Batch 20000/46875 - Avg Loss (last 10000): 3.8135\n"
     ]
    },
    {
     "name": "stderr",
     "output_type": "stream",
     "text": [
      "Training:  64%|██████▍   | 30008/46875 [06:13<03:42, 75.74it/s]"
     ]
    },
    {
     "name": "stdout",
     "output_type": "stream",
     "text": [
      "[Epoch 7] Batch 30000/46875 - Avg Loss (last 10000): 3.8190\n"
     ]
    },
    {
     "name": "stderr",
     "output_type": "stream",
     "text": [
      "Training:  85%|████████▌ | 40013/46875 [08:18<01:21, 84.53it/s]"
     ]
    },
    {
     "name": "stdout",
     "output_type": "stream",
     "text": [
      "[Epoch 7] Batch 40000/46875 - Avg Loss (last 10000): 3.8186\n"
     ]
    },
    {
     "name": "stderr",
     "output_type": "stream",
     "text": [
      "Training: 100%|██████████| 46875/46875 [09:45<00:00, 80.11it/s]\n",
      "validating:   0%|          | 0/15625 [00:00<?, ?it/s]/home/jaganathan.p/.conda/envs/medal/lib/python3.10/site-packages/torch/utils/data/dataloader.py:624: UserWarning: This DataLoader will create 16 worker processes in total. Our suggested max number of worker in current system is 6, which is smaller than what this DataLoader is going to create. Please be aware that excessive worker creation might get DataLoader running slow or even freeze, lower the worker number to avoid potential slowness/freeze if necessary.\n",
      "  warnings.warn(\n",
      "validating: 100%|██████████| 15625/15625 [01:06<00:00, 234.81it/s]\n"
     ]
    },
    {
     "name": "stdout",
     "output_type": "stream",
     "text": [
      "Validation Loss: 3.6106, Accuracy: 0.6063, Precision: 0.6410, Recall: 0.6063\n",
      "Epoch 7/10 - Train Loss: 0.0595, Train Acc: 0.5824, Prec: 0.5939, Recall: 0.5824, Val Acc: 0.6063, Val Prec: 0.6410, Val Recall: 0.6063\n"
     ]
    },
    {
     "name": "stderr",
     "output_type": "stream",
     "text": [
      "/home/jaganathan.p/.conda/envs/medal/lib/python3.10/site-packages/torch/utils/data/dataloader.py:624: UserWarning: This DataLoader will create 16 worker processes in total. Our suggested max number of worker in current system is 6, which is smaller than what this DataLoader is going to create. Please be aware that excessive worker creation might get DataLoader running slow or even freeze, lower the worker number to avoid potential slowness/freeze if necessary.\n",
      "  warnings.warn(\n",
      "Training:  21%|██▏       | 10012/46875 [02:06<08:06, 75.72it/s]"
     ]
    },
    {
     "name": "stdout",
     "output_type": "stream",
     "text": [
      "[Epoch 8] Batch 10000/46875 - Avg Loss (last 10000): 3.6965\n"
     ]
    },
    {
     "name": "stderr",
     "output_type": "stream",
     "text": [
      "Training:  43%|████▎     | 20012/46875 [04:12<05:47, 77.27it/s]"
     ]
    },
    {
     "name": "stdout",
     "output_type": "stream",
     "text": [
      "[Epoch 8] Batch 20000/46875 - Avg Loss (last 10000): 3.7268\n"
     ]
    },
    {
     "name": "stderr",
     "output_type": "stream",
     "text": [
      "Training:  64%|██████▍   | 30011/46875 [06:16<03:41, 76.07it/s]"
     ]
    },
    {
     "name": "stdout",
     "output_type": "stream",
     "text": [
      "[Epoch 8] Batch 30000/46875 - Avg Loss (last 10000): 3.7234\n"
     ]
    },
    {
     "name": "stderr",
     "output_type": "stream",
     "text": [
      "Training:  85%|████████▌ | 40012/46875 [08:21<01:24, 81.56it/s]"
     ]
    },
    {
     "name": "stdout",
     "output_type": "stream",
     "text": [
      "[Epoch 8] Batch 40000/46875 - Avg Loss (last 10000): 3.7263\n"
     ]
    },
    {
     "name": "stderr",
     "output_type": "stream",
     "text": [
      "Training: 100%|██████████| 46875/46875 [09:48<00:00, 79.63it/s]\n",
      "validating:   0%|          | 0/15625 [00:00<?, ?it/s]/home/jaganathan.p/.conda/envs/medal/lib/python3.10/site-packages/torch/utils/data/dataloader.py:624: UserWarning: This DataLoader will create 16 worker processes in total. Our suggested max number of worker in current system is 6, which is smaller than what this DataLoader is going to create. Please be aware that excessive worker creation might get DataLoader running slow or even freeze, lower the worker number to avoid potential slowness/freeze if necessary.\n",
      "  warnings.warn(\n",
      "validating: 100%|██████████| 15625/15625 [01:07<00:00, 232.71it/s]\n"
     ]
    },
    {
     "name": "stdout",
     "output_type": "stream",
     "text": [
      "Validation Loss: 3.5647, Accuracy: 0.6148, Precision: 0.6387, Recall: 0.6148\n",
      "Epoch 8/10 - Train Loss: 0.0581, Train Acc: 0.5979, Prec: 0.6079, Recall: 0.5979, Val Acc: 0.6148, Val Prec: 0.6387, Val Recall: 0.6148\n"
     ]
    },
    {
     "name": "stderr",
     "output_type": "stream",
     "text": [
      "/home/jaganathan.p/.conda/envs/medal/lib/python3.10/site-packages/torch/utils/data/dataloader.py:624: UserWarning: This DataLoader will create 16 worker processes in total. Our suggested max number of worker in current system is 6, which is smaller than what this DataLoader is going to create. Please be aware that excessive worker creation might get DataLoader running slow or even freeze, lower the worker number to avoid potential slowness/freeze if necessary.\n",
      "  warnings.warn(\n",
      "Training:  21%|██▏       | 10013/46875 [02:06<07:49, 78.51it/s]"
     ]
    },
    {
     "name": "stdout",
     "output_type": "stream",
     "text": [
      "[Epoch 9] Batch 10000/46875 - Avg Loss (last 10000): 3.6283\n"
     ]
    },
    {
     "name": "stderr",
     "output_type": "stream",
     "text": [
      "Training:  43%|████▎     | 20015/46875 [04:12<05:23, 83.02it/s]"
     ]
    },
    {
     "name": "stdout",
     "output_type": "stream",
     "text": [
      "[Epoch 9] Batch 20000/46875 - Avg Loss (last 10000): 3.6413\n"
     ]
    },
    {
     "name": "stderr",
     "output_type": "stream",
     "text": [
      "Training:  64%|██████▍   | 30008/46875 [06:18<03:35, 78.26it/s]"
     ]
    },
    {
     "name": "stdout",
     "output_type": "stream",
     "text": [
      "[Epoch 9] Batch 30000/46875 - Avg Loss (last 10000): 3.6499\n"
     ]
    },
    {
     "name": "stderr",
     "output_type": "stream",
     "text": [
      "Training:  85%|████████▌ | 40014/46875 [08:24<01:29, 76.90it/s]"
     ]
    },
    {
     "name": "stdout",
     "output_type": "stream",
     "text": [
      "[Epoch 9] Batch 40000/46875 - Avg Loss (last 10000): 3.6520\n"
     ]
    },
    {
     "name": "stderr",
     "output_type": "stream",
     "text": [
      "Training: 100%|██████████| 46875/46875 [09:52<00:00, 79.06it/s]\n",
      "validating:   0%|          | 0/15625 [00:00<?, ?it/s]/home/jaganathan.p/.conda/envs/medal/lib/python3.10/site-packages/torch/utils/data/dataloader.py:624: UserWarning: This DataLoader will create 16 worker processes in total. Our suggested max number of worker in current system is 6, which is smaller than what this DataLoader is going to create. Please be aware that excessive worker creation might get DataLoader running slow or even freeze, lower the worker number to avoid potential slowness/freeze if necessary.\n",
      "  warnings.warn(\n",
      "validating: 100%|██████████| 15625/15625 [01:07<00:00, 230.04it/s]\n"
     ]
    },
    {
     "name": "stdout",
     "output_type": "stream",
     "text": [
      "Validation Loss: 3.5406, Accuracy: 0.6207, Precision: 0.6363, Recall: 0.6207\n",
      "Epoch 9/10 - Train Loss: 0.0569, Train Acc: 0.6122, Prec: 0.6209, Recall: 0.6122, Val Acc: 0.6207, Val Prec: 0.6363, Val Recall: 0.6207\n"
     ]
    },
    {
     "name": "stderr",
     "output_type": "stream",
     "text": [
      "/home/jaganathan.p/.conda/envs/medal/lib/python3.10/site-packages/torch/utils/data/dataloader.py:624: UserWarning: This DataLoader will create 16 worker processes in total. Our suggested max number of worker in current system is 6, which is smaller than what this DataLoader is going to create. Please be aware that excessive worker creation might get DataLoader running slow or even freeze, lower the worker number to avoid potential slowness/freeze if necessary.\n",
      "  warnings.warn(\n",
      "Training:  21%|██▏       | 10010/46875 [02:04<07:43, 79.51it/s]"
     ]
    },
    {
     "name": "stdout",
     "output_type": "stream",
     "text": [
      "[Epoch 10] Batch 10000/46875 - Avg Loss (last 10000): 3.5865\n"
     ]
    },
    {
     "name": "stderr",
     "output_type": "stream",
     "text": [
      "Training:  43%|████▎     | 20015/46875 [04:11<05:38, 79.30it/s]"
     ]
    },
    {
     "name": "stdout",
     "output_type": "stream",
     "text": [
      "[Epoch 10] Batch 20000/46875 - Avg Loss (last 10000): 3.5908\n"
     ]
    },
    {
     "name": "stderr",
     "output_type": "stream",
     "text": [
      "Training:  64%|██████▍   | 30017/46875 [06:15<03:00, 93.58it/s]"
     ]
    },
    {
     "name": "stdout",
     "output_type": "stream",
     "text": [
      "[Epoch 10] Batch 30000/46875 - Avg Loss (last 10000): 3.5925\n"
     ]
    },
    {
     "name": "stderr",
     "output_type": "stream",
     "text": [
      "Training:  85%|████████▌ | 40014/46875 [08:20<01:17, 87.98it/s]"
     ]
    },
    {
     "name": "stdout",
     "output_type": "stream",
     "text": [
      "[Epoch 10] Batch 40000/46875 - Avg Loss (last 10000): 3.5945\n"
     ]
    },
    {
     "name": "stderr",
     "output_type": "stream",
     "text": [
      "Training: 100%|██████████| 46875/46875 [09:47<00:00, 79.74it/s]\n",
      "validating:   0%|          | 0/15625 [00:00<?, ?it/s]/home/jaganathan.p/.conda/envs/medal/lib/python3.10/site-packages/torch/utils/data/dataloader.py:624: UserWarning: This DataLoader will create 16 worker processes in total. Our suggested max number of worker in current system is 6, which is smaller than what this DataLoader is going to create. Please be aware that excessive worker creation might get DataLoader running slow or even freeze, lower the worker number to avoid potential slowness/freeze if necessary.\n",
      "  warnings.warn(\n",
      "validating: 100%|██████████| 15625/15625 [01:09<00:00, 225.40it/s]\n"
     ]
    },
    {
     "name": "stdout",
     "output_type": "stream",
     "text": [
      "Validation Loss: 3.5366, Accuracy: 0.6232, Precision: 0.6354, Recall: 0.6232\n",
      "Epoch 10/10 - Train Loss: 0.0561, Train Acc: 0.6227, Prec: 0.6310, Recall: 0.6227, Val Acc: 0.6232, Val Prec: 0.6354, Val Recall: 0.6232\n",
      "Model saved at: trained_models/models/medal_glove_100ctx_lstm_and_self_attention_model_model.pth\n"
     ]
    }
   ],
   "source": [
    "# Use the new dataloaders\n",
    "model_trainer = ModelTrainer(config_file='config.yaml')\n",
    "train_results = model_trainer.train(\n",
    "    trainloader,\n",
    "    valloader,\n",
    "    dataset='medal',\n",
    "    embedding_dim=100,\n",
    "    embedding_model = glove_embedding_model\n",
    ")"
   ]
  },
  {
   "cell_type": "markdown",
   "metadata": {},
   "source": [
    "#### Visualize the training results"
   ]
  },
  {
   "cell_type": "code",
   "execution_count": 10,
   "metadata": {},
   "outputs": [
    {
     "data": {
      "image/png": "[encoded data removed]",
      "text/plain": [
       "<Figure size 1800x600 with 3 Axes>"
      ]
     },
     "metadata": {},
     "output_type": "display_data"
    }
   ],
   "source": [
    "model_trainer.plot_results(train_results)"
   ]
  },
  {
   "cell_type": "markdown",
   "metadata": {},
   "source": [
    "#### Testing the model"
   ]
  },
  {
   "cell_type": "code",
   "execution_count": null,
   "metadata": {},
   "outputs": [],
   "source": [
    "tokens_and_locations = medal_dataset.tokenize('whitespace', splits=['test'])\n",
    "contexts = medal_dataset.extract_context_from_tokens(\n",
    "    tokens_and_locations,\n",
    "    context_window=config['datasets']['medal']['context_window'])\n",
    "contexts_df = pd.DataFrame({\n",
    "    'ABSTRACT_ID': medal_dataset.test_data['ABSTRACT_ID'],\n",
    "    'CONTEXT': contexts})\n",
    "contexts_df.head()\n",
    "\n",
    "# Save as a Parquet file\n",
    "dir = ProjectPaths.DATASET_DIR.value / 'medal' / 'whitespace_tokenized_subset'\n",
    "dir.mkdir(parents=True, exist_ok=True)\n",
    "file_name = dir / \"test.parquet\"\n",
    "contexts_df.to_parquet(file_name)\n",
    "print('Parquet file saved successfully!')\n"
   ]
  },
  {
   "cell_type": "code",
   "execution_count": null,
   "metadata": {},
   "outputs": [],
   "source": [
    "glove_embedding_model = GloVeEmbedding(**config['embedding_models']['glove'])\n",
    "\n",
    "max_seq_len = config['datasets']['medal']['max_sequence_length']\n",
    "batch_size = config['training']['hyperparameters']['batch_size']\n",
    "\n",
    "testloader = create_lazy_dataloader(\n",
    "    'dataset/medal/whitespace_tokenized_subset/test.parquet', \n",
    "    glove_embedding_model, \n",
    "    medal_dataset.test_data['LABEL'],\n",
    "    class_to_idx, \n",
    "    batch_size=batch_size,\n",
    "    max_seq_len=max_seq_len,\n",
    "    shuffle = False\n",
    "    )"
   ]
  },
  {
   "cell_type": "code",
   "execution_count": null,
   "metadata": {},
   "outputs": [],
   "source": [
    "model_trainer = ModelTrainer(config_file='config.yaml')\n",
    "model_name = 'lstm_and_self_attention'\n",
    "dataset_name = 'medal'\n",
    "embedding_dim = 100\n",
    "device = torch.device('cuda' if torch.cuda.is_available() else 'cpu')\n",
    "\n",
    "training_hyperparams = config['training']['hyperparameters']\n",
    "model_hyperparams = config['models'][model_name].get('hyperparameters', {})\n",
    "model_baseparams = config['models'][model_name].get('base_params', {})\n",
    "num_classes = config['datasets'][dataset_name]['num_classes']\n",
    "create_embedding_layer = config['training']['create_embedding_layer']\n",
    "embedding_model = glove_embedding_model\n",
    "\n",
    "model_params = {\n",
    "    **(model_hyperparams if model_hyperparams else {}),\n",
    "    **(model_baseparams if model_baseparams else {}),\n",
    "    'num_classes': num_classes,\n",
    "    'embedding_dim': embedding_dim,\n",
    "    'create_embedding_layer': create_embedding_layer,\n",
    "    'embedding_model': embedding_model\n",
    "}\n",
    "\n",
    "model_factory = ModelFactory()\n",
    "model = model_factory.get_model(model_name, **model_params).to(device)\n",
    "checkpoint_path = 'trained_models/models/medal_glove_100ctx_lstm_and_self_attention_model_model.pth'\n",
    "state_dict = torch.load(checkpoint_path, map_location=device)\n",
    "\n",
    "# NOTE: Make sure the parameters for 'lstm_and_self_attention' in config.yaml \n",
    "# match the ones used when the model was originally trained. \n",
    "# You can check the training parameters in the first line of the training log.\n",
    "\n",
    "model.load_state_dict(state_dict)\n"
   ]
  },
  {
   "cell_type": "code",
   "execution_count": null,
   "metadata": {},
   "outputs": [],
   "source": [
    "label_smoothing = config.get('label_smoothing', 0.1)\n",
    "class_weights = None\n",
    "\n",
    "if 'class_weights' in config['datasets'][dataset_name]:\n",
    "    with open(config['datasets'][dataset_name]['class_weights'], 'r') as f:\n",
    "        weights = json.load(f)\n",
    "\n",
    "    # Convert to torch tensor and move to device\n",
    "    class_weights = torch.tensor(weights, dtype=torch.float32).to(device)\n",
    "\n",
    "model_trainer.criterion = nn.CrossEntropyLoss(label_smoothing=label_smoothing, weight=class_weights)\n",
    "test_results = model_trainer.evaluate(\n",
    "    testloader,\n",
    "    model\n",
    ")"
   ]
  }
 ],
 "metadata": {
  "kernelspec": {
   "display_name": "medal",
   "language": "python",
   "name": "python3"
  },
  "language_info": {
   "codemirror_mode": {
    "name": "ipython",
    "version": 3
   },
   "file_extension": ".py",
   "mimetype": "text/x-python",
   "name": "python",
   "nbconvert_exporter": "python",
   "pygments_lexer": "ipython3",
   "version": "3.10.16"
  }
 },
 "nbformat": 4,
 "nbformat_minor": 2
}
