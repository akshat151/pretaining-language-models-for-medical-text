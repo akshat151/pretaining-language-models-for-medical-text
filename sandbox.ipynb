{
 "cells": [
  {
   "cell_type": "code",
   "execution_count": 6,
   "metadata": {},
   "outputs": [
    {
     "name": "stdout",
     "output_type": "stream",
     "text": [
      "The autoreload extension is already loaded. To reload it, use:\n",
      "  %reload_ext autoreload\n"
     ]
    },
    {
     "name": "stderr",
     "output_type": "stream",
     "text": [
      "[nltk_data] Downloading package stopwords to\n",
      "[nltk_data]     /Users/prashanthjaganathan/nltk_data...\n",
      "[nltk_data]   Package stopwords is already up-to-date!\n"
     ]
    },
    {
     "name": "stdout",
     "output_type": "stream",
     "text": [
      "MeDAL dataset initialized with name: MeDAL\n",
      "Dataset downloaded to: /Users/prashanthjaganathan/.cache/kagglehub/datasets/xhlulu/medal-emnlp/versions/4\n",
      "Dataset moved to: /Users/prashanthjaganathan/Desktop/CS6120 - NLP/pretaining-language-models-for-medical-text/dataset\n"
     ]
    }
   ],
   "source": [
    "%load_ext autoreload\n",
    "%autoreload 2\n",
    "\n",
    "from src.data.medal import MeDALSubset\n",
    "\n",
    "medal_dataset = MeDALSubset('MeDAL')\n",
    "medal_dataset.load_dataset()\n",
    "train, val, test = medal_dataset.split_dataset()"
   ]
  },
  {
   "cell_type": "code",
   "execution_count": 7,
   "metadata": {},
   "outputs": [
    {
     "data": {
      "text/plain": [
       "3000000"
      ]
     },
     "execution_count": 7,
     "metadata": {},
     "output_type": "execute_result"
    }
   ],
   "source": [
    "len(train)"
   ]
  },
  {
   "cell_type": "code",
   "execution_count": 8,
   "metadata": {},
   "outputs": [
    {
     "data": {
      "text/plain": [
       "Index(['ABSTRACT_ID', 'TEXT', 'LOCATION', 'LABEL'], dtype='object')"
      ]
     },
     "execution_count": 8,
     "metadata": {},
     "output_type": "execute_result"
    }
   ],
   "source": [
    "train.columns"
   ]
  },
  {
   "cell_type": "code",
   "execution_count": 9,
   "metadata": {},
   "outputs": [
    {
     "data": {
      "text/html": [
       "<div>\n",
       "<style scoped>\n",
       "    .dataframe tbody tr th:only-of-type {\n",
       "        vertical-align: middle;\n",
       "    }\n",
       "\n",
       "    .dataframe tbody tr th {\n",
       "        vertical-align: top;\n",
       "    }\n",
       "\n",
       "    .dataframe thead th {\n",
       "        text-align: right;\n",
       "    }\n",
       "</style>\n",
       "<table border=\"1\" class=\"dataframe\">\n",
       "  <thead>\n",
       "    <tr style=\"text-align: right;\">\n",
       "      <th></th>\n",
       "      <th>ABSTRACT_ID</th>\n",
       "      <th>TEXT</th>\n",
       "      <th>LOCATION</th>\n",
       "      <th>LABEL</th>\n",
       "    </tr>\n",
       "  </thead>\n",
       "  <tbody>\n",
       "    <tr>\n",
       "      <th>0</th>\n",
       "      <td>14145090</td>\n",
       "      <td>velvet antlers vas are commonly used in tradit...</td>\n",
       "      <td>63</td>\n",
       "      <td>transverse aortic constriction</td>\n",
       "    </tr>\n",
       "    <tr>\n",
       "      <th>1</th>\n",
       "      <td>1900667</td>\n",
       "      <td>the clinical features of our cases demonstrate...</td>\n",
       "      <td>85</td>\n",
       "      <td>hodgkins lymphoma</td>\n",
       "    </tr>\n",
       "    <tr>\n",
       "      <th>2</th>\n",
       "      <td>8625554</td>\n",
       "      <td>ceftobiprole bpr is an investigational cephalo...</td>\n",
       "      <td>90</td>\n",
       "      <td>methicillinsusceptible s aureus</td>\n",
       "    </tr>\n",
       "    <tr>\n",
       "      <th>3</th>\n",
       "      <td>8157202</td>\n",
       "      <td>we have taken a basic biologic RPA to elucidat...</td>\n",
       "      <td>26</td>\n",
       "      <td>parathyroid hormonerelated protein</td>\n",
       "    </tr>\n",
       "    <tr>\n",
       "      <th>4</th>\n",
       "      <td>6784974</td>\n",
       "      <td>lipoperoxidationderived aldehydes for example ...</td>\n",
       "      <td>157</td>\n",
       "      <td>lipoperoxidation</td>\n",
       "    </tr>\n",
       "  </tbody>\n",
       "</table>\n",
       "</div>"
      ],
      "text/plain": [
       "   ABSTRACT_ID                                               TEXT  LOCATION  \\\n",
       "0     14145090  velvet antlers vas are commonly used in tradit...        63   \n",
       "1      1900667  the clinical features of our cases demonstrate...        85   \n",
       "2      8625554  ceftobiprole bpr is an investigational cephalo...        90   \n",
       "3      8157202  we have taken a basic biologic RPA to elucidat...        26   \n",
       "4      6784974  lipoperoxidationderived aldehydes for example ...       157   \n",
       "\n",
       "                                LABEL  \n",
       "0      transverse aortic constriction  \n",
       "1                   hodgkins lymphoma  \n",
       "2     methicillinsusceptible s aureus  \n",
       "3  parathyroid hormonerelated protein  \n",
       "4                    lipoperoxidation  "
      ]
     },
     "execution_count": 9,
     "metadata": {},
     "output_type": "execute_result"
    }
   ],
   "source": [
    "train.head()"
   ]
  },
  {
   "cell_type": "code",
   "execution_count": 20,
   "metadata": {},
   "outputs": [
    {
     "name": "stderr",
     "output_type": "stream",
     "text": [
      "[nltk_data] Downloading package stopwords to\n",
      "[nltk_data]     /Users/prashanthjaganathan/nltk_data...\n",
      "[nltk_data]   Package stopwords is already up-to-date!\n"
     ]
    },
    {
     "name": "stdout",
     "output_type": "stream",
     "text": [
      "ABSTRACT_ID                                              14145090\n",
      "TEXT            velvet antlers vas are commonly used in tradit...\n",
      "ABBREVIATION                                                   63\n",
      "LABEL                              transverse aortic constriction\n",
      "Name: 0, dtype: object\n"
     ]
    },
    {
     "name": "stderr",
     "output_type": "stream",
     "text": [
      "/Users/prashanthjaganathan/Desktop/CS6120 - NLP/pretaining-language-models-for-medical-text/src/data/medal.py:116: FutureWarning: Setting an item of incompatible dtype is deprecated and will raise an error in a future version of pandas. Value 'TAC' has dtype incompatible with int64, please explicitly cast to a compatible dtype first.\n",
      "  # Stemming, lemmantization, or other stuff?\n"
     ]
    },
    {
     "data": {
      "text/plain": [
       "ABSTRACT_ID                                              14145090\n",
       "TEXT            velvet antler vas commonly use traditional chi...\n",
       "ABBREVIATION                                                  TAC\n",
       "LABEL                              transverse aortic constriction\n",
       "Name: 0, dtype: object"
      ]
     },
     "execution_count": 20,
     "metadata": {},
     "output_type": "execute_result"
    }
   ],
   "source": [
    "processed_train = medal_dataset.preprocess(['train'])\n",
    "processed_train.iloc[0]"
   ]
  },
  {
   "cell_type": "code",
   "execution_count": null,
   "metadata": {},
   "outputs": [],
   "source": []
  },
  {
   "cell_type": "code",
   "execution_count": null,
   "metadata": {},
   "outputs": [],
   "source": []
  }
 ],
 "metadata": {
  "kernelspec": {
   "display_name": "medal",
   "language": "python",
   "name": "python3"
  },
  "language_info": {
   "codemirror_mode": {
    "name": "ipython",
    "version": 3
   },
   "file_extension": ".py",
   "mimetype": "text/x-python",
   "name": "python",
   "nbconvert_exporter": "python",
   "pygments_lexer": "ipython3",
   "version": "3.10.16"
  }
 },
 "nbformat": 4,
 "nbformat_minor": 2
}
