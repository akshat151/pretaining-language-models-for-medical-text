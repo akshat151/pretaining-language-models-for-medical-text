{
 "cells": [
  {
   "cell_type": "markdown",
   "metadata": {},
   "source": [
    "# MIMIC III \n",
    "\n",
    "Dataset link: https://physionet.org/content/mimiciii-demo/1.4/"
   ]
  }
 ],
 "metadata": {
  "language_info": {
   "name": "python"
  }
 },
 "nbformat": 4,
 "nbformat_minor": 2
}
